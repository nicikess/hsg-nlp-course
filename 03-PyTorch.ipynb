{
 "cells": [
  {
   "cell_type": "markdown",
   "id": "64f0c8c6-2886-4eab-96ca-073f6cc6d984",
   "metadata": {},
   "source": [
    "# Natural Language Processing with Deep Learning\n",
    "\n",
    "## 02 - PyTorch\n",
    "\n",
    "---"
   ]
  },
  {
   "cell_type": "code",
   "execution_count": null,
   "id": "bc7a363f-f14a-4f00-be8d-da08c02403e1",
   "metadata": {},
   "outputs": [],
   "source": [
    "# With Python version are we running?\n",
    "import sys\n",
    "print(sys.version)"
   ]
  },
  {
   "cell_type": "markdown",
   "id": "b7470cbb-28c9-4108-90b6-6a14a2eb999c",
   "metadata": {},
   "source": [
    "## Introduction\n",
    "[PyTorch](https://pytorch.org/) is a deep learning framework, one of the two main frameworks alongside [TensorFlow](https://www.tensorflow.org/).\n",
    "\n",
    "Let's start by importing PyTorch. It is called **Py**Torch but it is installed and imported with\n",
    "\n",
    "`%pip install torch`"
   ]
  },
  {
   "cell_type": "code",
   "execution_count": null,
   "id": "f8af9dd1-37b4-42e4-aad4-87a515735a0e",
   "metadata": {},
   "outputs": [],
   "source": [
    "import torch\n",
    "\n",
    "print(torch.__version__)"
   ]
  },
  {
   "cell_type": "code",
   "execution_count": null,
   "id": "76c1100f-9bc1-41aa-9746-aa37636b9391",
   "metadata": {},
   "outputs": [],
   "source": [
    "# Most Neural Network functions are in the nn submodule:\n",
    "import torch.nn as nn"
   ]
  },
  {
   "cell_type": "code",
   "execution_count": null,
   "id": "74033641-bf64-4a8c-af8a-03775c84a3b7",
   "metadata": {},
   "outputs": [],
   "source": [
    "# We also use NumPy a lot:\n",
    "import numpy as np\n",
    "\n",
    "print(np.__version__)"
   ]
  },
  {
   "cell_type": "code",
   "execution_count": null,
   "id": "e3c5df15-b324-40bc-aad7-174a9a96d602",
   "metadata": {},
   "outputs": [],
   "source": [
    "# Additionally, we import pretty print to print prettily\n",
    "from pprint import PrettyPrinter\n",
    "\n",
    "pp = PrettyPrinter()"
   ]
  },
  {
   "cell_type": "markdown",
   "id": "dc298d22-800c-44f5-90de-99045d9ae3e0",
   "metadata": {},
   "source": [
    "## Part 1: Tensors\n",
    "\n",
    "**Tensors** are PyTorch's most basic building block.\n",
    "Each tensor is a multi-dimensional matrix; for example, a 256x256 square image might be represented by a `3x256x256` tensor, where the first dimension represents color.\n",
    "\n",
    "Here's how to create a tensor:"
   ]
  },
  {
   "cell_type": "code",
   "execution_count": null,
   "id": "1cfdfe2d-2386-4a5b-b426-d5f98ca49ccc",
   "metadata": {},
   "outputs": [],
   "source": [
    "list_of_lists = [\n",
    "    [1, 2, 3],\n",
    "    [4, 5, 6],\n",
    "]\n",
    "pp.pprint(list_of_lists)"
   ]
  },
  {
   "cell_type": "markdown",
   "id": "8e7a612f-5bc7-4259-a9fc-a09985278f4e",
   "metadata": {},
   "source": [
    "And now in PyTorch:"
   ]
  },
  {
   "cell_type": "code",
   "execution_count": null,
   "id": "bd15d3b9-0faa-4b68-bbe6-89e1f1159448",
   "metadata": {},
   "outputs": [],
   "source": [
    "data = torch.tensor([[0, 1], [2, 3], [4, 5]])"
   ]
  },
  {
   "cell_type": "code",
   "execution_count": null,
   "id": "3e5b5327-1d1c-482b-9dcc-b55cbefbcbae",
   "metadata": {},
   "outputs": [],
   "source": [
    "pp.pprint(data)"
   ]
  },
  {
   "cell_type": "markdown",
   "id": "db535666-b1c5-421d-b99b-9fc2d41083b3",
   "metadata": {},
   "source": [
    "Each tenser as a _predefined_ and _fixed_ **data type**:\n",
    "\n",
    "the major data types you'll handle are floating point numbers in 32bit precision: `torch.float32` and integers `torch.int`.\n",
    "\n",
    "You can specify this data type during the instatiation explicitly with the `dtype` argument:"
   ]
  },
  {
   "cell_type": "code",
   "execution_count": null,
   "id": "3d26fd69-1e71-4917-9396-2ca014b57a60",
   "metadata": {},
   "outputs": [],
   "source": [
    "data = torch.tensor([[0, 1], [2, 3], [4, 5]], dtype=torch.float32)\n",
    "\n",
    "pp.pprint(data)"
   ]
  },
  {
   "cell_type": "code",
   "execution_count": null,
   "id": "f9457236-d444-4ff1-b1d9-f8d2e7e901fa",
   "metadata": {},
   "outputs": [],
   "source": [
    "pp.pprint(data.dtype)"
   ]
  },
  {
   "cell_type": "code",
   "execution_count": null,
   "id": "d08af0dd-b0bd-45d8-9632-c8de4545adb8",
   "metadata": {},
   "outputs": [],
   "source": [
    "data = torch.tensor([[0.11111111, 1], [2, 3], [4, 5]], dtype=torch.float32)\n",
    "pp.pprint(data)"
   ]
  },
  {
   "cell_type": "code",
   "execution_count": null,
   "id": "6b26e195-6d99-4583-a5c1-97369ab27476",
   "metadata": {},
   "outputs": [],
   "source": [
    "# A tensor can only have one data type. It uses the highest abstraction for all of them:\n",
    "data = torch.tensor([[0.11111111, 1], [2, 3], [4, 5]])\n",
    "pp.pprint(data)\n",
    "pp.pprint(data.dtype)"
   ]
  },
  {
   "cell_type": "markdown",
   "id": "eeef4340-a146-4b80-945f-7fca014eb347",
   "metadata": {},
   "source": [
    "Utility functions also exist to create tensors with given shapes and contents:"
   ]
  },
  {
   "cell_type": "code",
   "execution_count": null,
   "id": "c69503a0-5a00-4337-91eb-da355693dbe4",
   "metadata": {},
   "outputs": [],
   "source": [
    "zeros = torch.zeros(2, 5)  # a tensor of all zeros\n",
    "pp.pprint(zeros)"
   ]
  },
  {
   "cell_type": "code",
   "execution_count": null,
   "id": "90444e48-f842-463f-906d-14f30cf7c097",
   "metadata": {},
   "outputs": [],
   "source": [
    "ones = torch.ones(3, 4)  # a tensor of all ones\n",
    "pp.pprint(ones)"
   ]
  },
  {
   "cell_type": "code",
   "execution_count": null,
   "id": "5d33de93-b210-4d33-af5f-df7f8eb95a36",
   "metadata": {},
   "outputs": [],
   "source": [
    "rr = torch.arange(1, 10)  # range from [1, 10)\n",
    "pp.pprint(rr)"
   ]
  },
  {
   "cell_type": "markdown",
   "id": "388c4e14-525e-4cd1-987a-2e44c153b9aa",
   "metadata": {},
   "source": [
    "Math operators are **broadcasted** and applied elementwise!"
   ]
  },
  {
   "cell_type": "code",
   "execution_count": null,
   "id": "9ad10d6a-34c1-4f9e-905a-de45c1e1f2ad",
   "metadata": {},
   "outputs": [],
   "source": [
    "pp.pprint(rr)\n",
    "\n",
    "pp.pprint(rr + 2)\n",
    "\n",
    "pp.pprint(rr * 2)"
   ]
  },
  {
   "cell_type": "markdown",
   "id": "a3251937-d975-43c7-8df1-ca81a40e2beb",
   "metadata": {},
   "source": [
    "This also works with other tensors:"
   ]
  },
  {
   "cell_type": "code",
   "execution_count": null,
   "id": "5cccd7a2-4f4b-4109-afb2-213812b3d57b",
   "metadata": {},
   "outputs": [],
   "source": [
    "a = torch.tensor([[1, 2], [2, 3], [4, 5]])  # shape: (3, 2)\n",
    "b = torch.tensor([[1, 2, 3, 4], [5, 6, 7, 8]])  # shape: (2, 4)\n",
    "\n",
    "print(\"A is:\")\n",
    "pp.pprint(a)\n",
    "\n",
    "print(\"B is:\")\n",
    "pp.pprint(b)"
   ]
  },
  {
   "cell_type": "code",
   "execution_count": null,
   "id": "d9a37aa7-ebdc-4bd9-ba6e-2c94e6a1965e",
   "metadata": {},
   "outputs": [],
   "source": [
    "print(\"The product is:\")\n",
    "pp.pprint(a.matmul(b))"
   ]
  },
  {
   "cell_type": "code",
   "execution_count": null,
   "id": "51051194-7dd9-425b-8a49-835b1de705f1",
   "metadata": {},
   "outputs": [],
   "source": [
    "print(\"Special operator specifically for matrix multiplication:\")\n",
    "pp.pprint(a @ b)  # +, -, *, @"
   ]
  },
  {
   "cell_type": "code",
   "execution_count": null,
   "id": "26d406c3-0ead-4b15-88ef-cda87cff3850",
   "metadata": {},
   "outputs": [],
   "source": [
    "# What about +?\n",
    "\n",
    "# pp.pprint(a + b)"
   ]
  },
  {
   "cell_type": "markdown",
   "id": "731228d7-fd5a-496d-9d0e-983800e10b98",
   "metadata": {},
   "source": [
    "What about the shapes?"
   ]
  },
  {
   "cell_type": "code",
   "execution_count": null,
   "id": "ed597293-9314-4e4f-9b9b-4cb36121a364",
   "metadata": {},
   "outputs": [],
   "source": [
    "v = torch.tensor([1, 2, 3])\n",
    "\n",
    "pp.pprint(v.shape)"
   ]
  },
  {
   "cell_type": "code",
   "execution_count": null,
   "id": "664d7696-18ba-4f8f-a403-fbf542b7de1d",
   "metadata": {},
   "outputs": [],
   "source": [
    "m = torch.tensor([[1, 2, 3], [4, 5, 6]])\n",
    "\n",
    "r = m @ v\n",
    "\n",
    "print(f\"We're multiplying {m.shape} and {v.shape}.\")\n",
    "print(f\"The result is {r.shape}.\")\n",
    "\n",
    "pp.pprint(r)"
   ]
  },
  {
   "cell_type": "markdown",
   "id": "30016e0e-739a-4def-baf2-86126a931a40",
   "metadata": {},
   "source": [
    "The **shape** of a matrix (which can be accessed by `.shape`) is defined as the dimensions of the matrix.\n",
    "\n",
    "Here's some examples:"
   ]
  },
  {
   "cell_type": "code",
   "execution_count": null,
   "id": "131b9fc6-05be-4d1e-bdc6-0bfd4dc3884c",
   "metadata": {},
   "outputs": [],
   "source": [
    "matr_2d = torch.tensor([[1, 2, 3], [4, 5, 6]])\n",
    "\n",
    "pp.pprint(matr_2d.shape)\n",
    "pp.pprint(matr_2d)"
   ]
  },
  {
   "cell_type": "code",
   "execution_count": null,
   "id": "ee1973ef-d5de-46dd-9c08-f23c6ed356cd",
   "metadata": {},
   "outputs": [],
   "source": [
    "matr_3d = torch.tensor(\n",
    "    [\n",
    "        [[1, 2, 3, 4], [-2, 5, 6, 9]],\n",
    "        [[5, 6, 7, 2], [8, 9, 10, 4]],\n",
    "        [[-3, 2, 2, 1], [4, 6, 5, 9]],\n",
    "    ]\n",
    ")\n",
    "\n",
    "pp.pprint(matr_3d)\n",
    "pp.pprint(matr_3d.shape)"
   ]
  },
  {
   "cell_type": "markdown",
   "id": "c13eb62d-c9bc-4f3d-853f-05eed1699756",
   "metadata": {},
   "source": [
    "**Reshaping** tensors can be used to make batch operations easier (more on that later), but be careful that the data is reshaped in the order you expect:"
   ]
  },
  {
   "cell_type": "code",
   "execution_count": null,
   "id": "f31ff72e-0124-41f4-ad41-302e7c8a7fdb",
   "metadata": {},
   "outputs": [],
   "source": [
    "rr = torch.arange(1, 16)\n",
    "print(f\"The shape is currently {rr.shape}\")\n",
    "print(\"The contents are currently:\")\n",
    "pp.pprint(rr)"
   ]
  },
  {
   "cell_type": "code",
   "execution_count": null,
   "id": "fbad6cca-81fb-4fa7-a7e3-ca2d53f0e025",
   "metadata": {},
   "outputs": [],
   "source": [
    "rr = rr.view(5, 3)\n",
    "\n",
    "print(f\"The shape is currently {rr.shape}\")\n",
    "print(\"The contents are currently:\")\n",
    "\n",
    "pp.pprint(rr)"
   ]
  },
  {
   "cell_type": "markdown",
   "id": "ceefd7f4-8cfb-472d-814a-b7283b2b2ed4",
   "metadata": {},
   "source": [
    "Finally, you can also inter-convert tensors with **NumPy arrays**:"
   ]
  },
  {
   "cell_type": "code",
   "execution_count": null,
   "id": "0a395f8d-002c-49f2-81ca-9b2d820f972d",
   "metadata": {},
   "outputs": [],
   "source": [
    "# numpy.ndarray --> torch.Tensor:\n",
    "arr = np.array([[1, 0, 5]])\n",
    "data = torch.tensor(arr)\n",
    "print(\"This is a torch.tensor:\")\n",
    "pp.pprint(data)\n",
    "\n",
    "# torch.Tensor --> numpy.ndarray:\n",
    "new_arr = data.numpy()\n",
    "print(\"This is a np.ndarray\", new_arr)\n",
    "pp.pprint(new_arr)"
   ]
  },
  {
   "cell_type": "markdown",
   "id": "03f023e4-df4e-41f7-aed6-59633adaed18",
   "metadata": {},
   "source": [
    "One of the reasons why we use **tensors** is *vectorized operations*:\n",
    "operations that be conducted in parallel over a particular dimension of a tensor. "
   ]
  },
  {
   "cell_type": "code",
   "execution_count": null,
   "id": "dee61e43-3d26-443b-aea1-ce89d83f5509",
   "metadata": {},
   "outputs": [],
   "source": [
    "data = torch.arange(1, 36, dtype=torch.float32).reshape(5, 7)\n",
    "\n",
    "print(\"Data is:\")\n",
    "pp.pprint(data)"
   ]
  },
  {
   "cell_type": "code",
   "execution_count": null,
   "id": "58ae0f77-6491-44dc-bf43-9b3fcc03c303",
   "metadata": {},
   "outputs": [],
   "source": [
    "# We can perform operations like *sum* over each row...\n",
    "print(\"Taking the sum over columns:\")\n",
    "pp.pprint(data.sum(dim=0))"
   ]
  },
  {
   "cell_type": "code",
   "execution_count": null,
   "id": "3dcddb50-31bd-4e35-843a-e94b5c2cf599",
   "metadata": {},
   "outputs": [],
   "source": [
    "# or over each column.\n",
    "print(\"Taking thep sum over rows:\")\n",
    "pp.pprint(data.sum(dim=1))"
   ]
  },
  {
   "cell_type": "code",
   "execution_count": null,
   "id": "02221ee9-513e-40f1-8aa0-03a773be85b2",
   "metadata": {},
   "outputs": [],
   "source": [
    "# Other operations are available:\n",
    "print(\"Taking the stdev over rows:\")\n",
    "pp.pprint(data.std(dim=1))"
   ]
  },
  {
   "cell_type": "code",
   "execution_count": null,
   "id": "1c2cfa06-2476-4e9a-9e3b-15b6b122b763",
   "metadata": {},
   "outputs": [],
   "source": [
    "# No dimension: Sum everything\n",
    "pp.pprint(data.sum())"
   ]
  },
  {
   "cell_type": "markdown",
   "id": "82514202-8e0a-44f3-95ef-00ab5a97cecf",
   "metadata": {},
   "source": [
    "### Quiz\n",
    "\n",
    "Write code that creates a `torch.tensor` with the following contents:\n",
    "$\\begin{bmatrix} 1 & 2.2 & 9.6 \\\\ 4 & -7.2 & 6.3 \\end{bmatrix}$\n",
    "\n",
    "Now compute the average of each row (`.mean()`) and each column.\n",
    "\n",
    "What's the shape of the results?\n",
    "\n"
   ]
  },
  {
   "cell_type": "code",
   "execution_count": null,
   "id": "879a84b9-24bb-4254-a8ef-ea7b9d384a55",
   "metadata": {},
   "outputs": [],
   "source": [
    "data = torch.tensor([[1, 2.2, 9.6], [4, -7.2, 6.3]])\n",
    "\n",
    "row_avg = data.mean(dim=1)\n",
    "col_avg = data.mean(dim=0)\n",
    "\n",
    "pp.pprint(row_avg.shape)\n",
    "pp.pprint(row_avg)\n",
    "\n",
    "pp.pprint(col_avg.shape)\n",
    "pp.pprint(col_avg)"
   ]
  },
  {
   "cell_type": "markdown",
   "id": "c2f3f501-191a-4858-9cec-f56db2686ca4",
   "metadata": {},
   "source": [
    "**Indexing**\n",
    "\n",
    "You can access arbitrary elements of a tensor using the `[]` operator. (Like with ordinary lists, np.arrays, etc.)"
   ]
  },
  {
   "cell_type": "code",
   "execution_count": null,
   "id": "003688f9-8a8e-4a9a-9bc8-f2397a5bb7c7",
   "metadata": {},
   "outputs": [],
   "source": [
    "# Initialize an example tensor\n",
    "x = torch.Tensor([[[1, 2], [3, 4]], [[5, 6], [7, 8]], [[9, 10], [11, 12]]])\n",
    "pp.pprint(x)"
   ]
  },
  {
   "cell_type": "code",
   "execution_count": null,
   "id": "d6bd52fd-ca78-4823-85c5-84256e2bb23b",
   "metadata": {},
   "outputs": [],
   "source": [
    "x.shape"
   ]
  },
  {
   "cell_type": "code",
   "execution_count": null,
   "id": "1d776b0b-29a5-4587-9af4-b86096bd2c3a",
   "metadata": {},
   "outputs": [],
   "source": [
    "# Access the 0th element, which is the first row\n",
    "x[0]"
   ]
  },
  {
   "cell_type": "code",
   "execution_count": null,
   "id": "901c553b-5637-4c66-946b-37f4244a8427",
   "metadata": {},
   "outputs": [],
   "source": [
    "# Which is equivalent to\n",
    "x[0, :]  # select the row at position 0 and everything else"
   ]
  },
  {
   "cell_type": "code",
   "execution_count": null,
   "id": "6c49b3e8-0e19-43d8-834d-2eaf65d73b94",
   "metadata": {},
   "outputs": [],
   "source": [
    "x[:, 0]"
   ]
  },
  {
   "cell_type": "code",
   "execution_count": null,
   "id": "75a10ebf-2bb5-4312-89c6-f34a88f57ec9",
   "metadata": {},
   "outputs": [],
   "source": [
    "x[:, 1]"
   ]
  },
  {
   "cell_type": "code",
   "execution_count": null,
   "id": "daa51b30-6b26-4022-b322-6906a07cca62",
   "metadata": {},
   "outputs": [],
   "source": [
    "matr = torch.arange(1, 16).view(5, 3)\n",
    "pp.pprint(matr)"
   ]
  },
  {
   "cell_type": "code",
   "execution_count": null,
   "id": "f1cd6daf-42a2-4a6a-814a-cb62460f93dc",
   "metadata": {},
   "outputs": [],
   "source": [
    "matr[0]"
   ]
  },
  {
   "cell_type": "code",
   "execution_count": null,
   "id": "0e493f81-1290-4712-a31d-ca700bcb3a5e",
   "metadata": {},
   "outputs": [],
   "source": [
    "matr[0, :]"
   ]
  },
  {
   "cell_type": "code",
   "execution_count": null,
   "id": "dee4bb8e-3c97-480b-abb3-50c3fa172966",
   "metadata": {},
   "outputs": [],
   "source": [
    "matr[:, 0]"
   ]
  },
  {
   "cell_type": "code",
   "execution_count": null,
   "id": "06c84650-5d35-4020-8dd9-0bc7a5fb2f96",
   "metadata": {},
   "outputs": [],
   "source": [
    "matr[0:3]"
   ]
  },
  {
   "cell_type": "code",
   "execution_count": null,
   "id": "e219d849-7014-4b7e-97f4-5fc477aee239",
   "metadata": {},
   "outputs": [],
   "source": [
    "matr[:, 0:2]"
   ]
  },
  {
   "cell_type": "code",
   "execution_count": null,
   "id": "c564246e-1e4d-4ae8-bcc3-2ef21e4ebda9",
   "metadata": {},
   "outputs": [],
   "source": [
    "matr[0:3, 0:2]"
   ]
  },
  {
   "cell_type": "code",
   "execution_count": null,
   "id": "640f7a31-b9d2-4c21-879c-79a22270858d",
   "metadata": {},
   "outputs": [],
   "source": [
    "matr[0][2]"
   ]
  },
  {
   "cell_type": "code",
   "execution_count": null,
   "id": "decef503-029a-4cc2-a3e5-f30bca9d50ea",
   "metadata": {},
   "outputs": [],
   "source": [
    "matr[0:3, 2]"
   ]
  },
  {
   "cell_type": "code",
   "execution_count": null,
   "id": "e31a89d2-d381-4c6c-9272-e7d0ce14df94",
   "metadata": {},
   "outputs": [],
   "source": [
    "matr[0:3][2]"
   ]
  },
  {
   "cell_type": "code",
   "execution_count": null,
   "id": "668376ca-2db5-405e-8bb6-898ce2c81eeb",
   "metadata": {},
   "outputs": [],
   "source": [
    "matr[0:3]"
   ]
  },
  {
   "cell_type": "code",
   "execution_count": null,
   "id": "a6702b8e-8005-4f30-9476-9e96d36526f2",
   "metadata": {},
   "outputs": [],
   "source": [
    "matr[[0, 2, 4]]"
   ]
  },
  {
   "cell_type": "markdown",
   "id": "912ad0c4-fdac-4625-a2d2-198fd53acc22",
   "metadata": {},
   "source": [
    "We can also index into multiple dimensions with `:`."
   ]
  },
  {
   "cell_type": "code",
   "execution_count": null,
   "id": "a49c048a-a4af-40c7-a121-e4f258de22e3",
   "metadata": {},
   "outputs": [],
   "source": [
    "# Get the top left element of each element in our tensor\n",
    "x[:, 0, 0]"
   ]
  },
  {
   "cell_type": "code",
   "execution_count": null,
   "id": "c3ec8a52-e5ff-4bb8-afbf-d1552e11f06b",
   "metadata": {},
   "outputs": [],
   "source": [
    "x[:, :, :]"
   ]
  },
  {
   "cell_type": "code",
   "execution_count": null,
   "id": "83245639-da80-4a48-8046-c7452b93135f",
   "metadata": {},
   "outputs": [],
   "source": [
    "# Print x again to see our tensor\n",
    "x"
   ]
  },
  {
   "cell_type": "code",
   "execution_count": null,
   "id": "dda07de0-7866-454a-a698-bb84b6a7aae2",
   "metadata": {},
   "outputs": [],
   "source": [
    "# Let's access the 0th and 1st elements, each twice\n",
    "i = torch.tensor([0, 0, 1, 1])\n",
    "x[i]"
   ]
  },
  {
   "cell_type": "code",
   "execution_count": null,
   "id": "5529dd56-772e-4790-9d3f-e11260fcc5e4",
   "metadata": {},
   "outputs": [],
   "source": [
    "# Let's access the 0th elements of the 1st and 2nd elements\n",
    "i = torch.tensor([1, 2])\n",
    "j = torch.tensor([0])\n",
    "\n",
    "x[i, j]"
   ]
  },
  {
   "cell_type": "markdown",
   "id": "e37b90fd-85fa-426c-8f98-2152728e69c1",
   "metadata": {},
   "source": [
    "We can get a `Python` scalar value from a tensor with `item()`.\n",
    "\n"
   ]
  },
  {
   "cell_type": "code",
   "execution_count": null,
   "id": "435dc2af-64fa-4342-a48e-81600b50adc8",
   "metadata": {},
   "outputs": [],
   "source": [
    "x[0, 0, 0]"
   ]
  },
  {
   "cell_type": "code",
   "execution_count": null,
   "id": "86a9b150-40c5-498b-a0bd-22c61fd298f6",
   "metadata": {},
   "outputs": [],
   "source": [
    "x[0, 0, 0].item()"
   ]
  },
  {
   "cell_type": "markdown",
   "id": "81fe2a4f-d630-4cc3-9191-f4162ba39362",
   "metadata": {},
   "source": [
    "## Autograd\n",
    "Pytorch is well-known for its automatic differentiation feature.\n",
    "\n",
    "We can call the `backward()` method to ask `PyTorch` to calculate the gradients, which are then stored in the `grad` attribute."
   ]
  },
  {
   "cell_type": "code",
   "execution_count": null,
   "id": "14713c3f-21bf-4aa9-bf90-836775346c42",
   "metadata": {},
   "outputs": [],
   "source": [
    "# Create an example tensor\n",
    "x = torch.tensor(\n",
    "    [2.0], requires_grad=True\n",
    ")  # requires_grad parameter tells PyTorch to store gradients\n",
    "\n",
    "# Print the gradient if it is calculated\n",
    "# Currently None since x is a scalar\n",
    "pp.pprint(x.grad)"
   ]
  },
  {
   "cell_type": "code",
   "execution_count": null,
   "id": "d100a27e-4526-44ec-b399-30c99cf3845c",
   "metadata": {},
   "outputs": [],
   "source": [
    "# Calculating the gradient of y with respect to x\n",
    "y = 3 * x**2\n",
    "\n",
    "y.backward()\n",
    "\n",
    "pp.pprint(x.grad)  # d(y)/d(x) = d(3x^2)/d(x) = 6x = 12"
   ]
  },
  {
   "cell_type": "markdown",
   "id": "8b1933c9-7a96-4a43-aecc-467e7098fb36",
   "metadata": {},
   "source": [
    "Let's run backprop from a different tensor again to see what happens."
   ]
  },
  {
   "cell_type": "code",
   "execution_count": null,
   "id": "3eae15e3-62a7-45dd-91d9-4e13e456b672",
   "metadata": {},
   "outputs": [],
   "source": [
    "z = 3 * x**2\n",
    "\n",
    "z.backward()\n",
    "\n",
    "pp.pprint(x.grad)"
   ]
  },
  {
   "cell_type": "markdown",
   "id": "84088aed-96d9-4360-bb91-0d02a420732a",
   "metadata": {},
   "source": [
    "We can see that the `x.grad` is updated to be the sum of the gradients calculated so far.\n",
    "When we run backprop in a neural network, we sum up all the gradients for a particular neuron before making an update.\n",
    "\n",
    "This is exactly what is happening here!\n",
    "This is also the reason why we need to run `zero_grad()` in every training iteration (more on this later).\n",
    "\n",
    "Otherwise our gradients would keep building up from one training iteration to the other, which would cause our updates to be wrong."
   ]
  },
  {
   "cell_type": "markdown",
   "id": "e0da5078-0f4c-445f-a5a9-980e927f3a31",
   "metadata": {},
   "source": [
    "## Neural Network Module\n",
    "\n",
    "So far we have looked into the tensors, their properties and basic operations on tensors.\n",
    "\n",
    "These are especially useful to get familiar with if we are building the layers of our network from scratch.\n",
    "We will use predefined blocks in the `torch.nn` module of `PyTorch`.\n",
    "We will then put together these blocks to create complex networks."
   ]
  },
  {
   "cell_type": "markdown",
   "id": "48776e54-59a6-4e47-afcc-320c8f95bbd9",
   "metadata": {},
   "source": [
    "### **Linear Layer**\n",
    "\n",
    "We can use `nn.Linear(H_in, H_out)` to create a a linear layer.\n",
    "\n",
    "This will take a matrix of `(N, *, H_in)` dimensions and output a matrix of `(N, *, H_out)`.\n",
    "The `*` denotes that there could be arbitrary number of dimensions in between.\n",
    "The linear layer performs the operation `Ax+b`, where `A` and `b` are initialized randomly.\n",
    "\n",
    "If we don't want the linear layer to learn the bias parameters, we could initialize our layer with `bias=False`."
   ]
  },
  {
   "cell_type": "code",
   "execution_count": null,
   "id": "6e0f9bd3-d2ff-4e1a-8463-a4d2a3a40c75",
   "metadata": {},
   "outputs": [],
   "source": [
    "# Create the inputs\n",
    "x = torch.ones(2, 3, 4)\n",
    "# N* H_in -> N*H_out\n",
    "\n",
    "\n",
    "# Make a linear layers transforming N,*,H_in dimensinal inputs to N,*,H_out\n",
    "# dimensional outputs\n",
    "linear = nn.Linear(4, 2)\n",
    "linear_output = linear(x)\n",
    "linear_output"
   ]
  },
  {
   "cell_type": "code",
   "execution_count": null,
   "id": "bbe59038-1a55-41a1-b010-afb90767bbd7",
   "metadata": {},
   "outputs": [],
   "source": [
    "pp.pprint(list(linear.parameters()))  # Ax + b"
   ]
  },
  {
   "cell_type": "markdown",
   "id": "4d5ce252-d876-4ebe-8fa7-63f94798c5fa",
   "metadata": {},
   "source": [
    "### **Other Module Layers**\n",
    "\n",
    "There are several other preconfigured layers in the `nn` module.\n",
    "Some commonly used examples are `nn.Conv2d`, `nn.ConvTranspose2d`, `nn.BatchNorm1d`, `nn.BatchNorm2d`, `nn.Upsample` and `nn.MaxPool2d` among many others.\n",
    "\n",
    "We will learn more about these as we progress in the course.\n",
    "\n",
    "For now, the only important thing to remember is that we can treat each of these layers as plug and play components:\n",
    "we will be providing the required dimensions and `PyTorch` will take care of setting them up. "
   ]
  },
  {
   "cell_type": "markdown",
   "id": "46d29586-cebf-4420-98c5-cb7e97628f20",
   "metadata": {},
   "source": [
    "### **Activation Function Layer**\n",
    "\n",
    "We can also use the `nn` module to apply activations functions to our tensors.\n",
    "\n",
    "Activation functions are used to add non-linearity to our network.\n",
    "Some examples of activations functions are `nn.ReLU()`, `nn.Sigmoid()` and `nn.LeakyReLU()`.\n",
    "\n",
    "Activation functions operate on each element seperately, so the shape of the tensors we get as an output are the same as the ones we pass in."
   ]
  },
  {
   "cell_type": "code",
   "execution_count": null,
   "id": "edbafd12-058e-4896-a557-22f74d47f349",
   "metadata": {},
   "outputs": [],
   "source": [
    "pp.pprint(linear_output)"
   ]
  },
  {
   "cell_type": "code",
   "execution_count": null,
   "id": "369ac5f0-8c68-42f9-8817-19849ce2e02c",
   "metadata": {},
   "outputs": [],
   "source": [
    "sigmoid = nn.Sigmoid()\n",
    "output = sigmoid(linear_output)\n",
    "output"
   ]
  },
  {
   "cell_type": "markdown",
   "id": "aa8b3635-b111-4fe5-9f98-51fdc935f0b3",
   "metadata": {},
   "source": [
    "### **Putting the Layers Together**\n",
    "So far we have seen that we can create layers and pass the output of one as the input of the next.\n",
    "\n",
    "Instead of creating intermediate tensors and passing them around, we can use `nn.Sequentual`, which does exactly that. "
   ]
  },
  {
   "cell_type": "code",
   "execution_count": null,
   "id": "37e9005e-7711-488c-9e4d-7cc4d39faffe",
   "metadata": {},
   "outputs": [],
   "source": [
    "block = nn.Sequential(nn.Linear(4, 2), nn.Sigmoid())\n",
    "\n",
    "x = torch.ones(2, 3, 4)\n",
    "output = block(x)\n",
    "pp.pprint(output)"
   ]
  },
  {
   "cell_type": "markdown",
   "id": "f087de0d-d8c8-49da-b6e3-b957ace3f6db",
   "metadata": {},
   "source": [
    "### Custom Modules\n",
    "\n",
    "Instead of using the predefined modules, we can also build our own by extending the `nn.Module` class. For example, we can build a the `nn.Linear` (which also extends `nn.Module`) on our own using the tensor introduced earlier! We can also build new, more complex modules, such as a custom neural network. You will be practicing these in the later assignment.\n",
    "\n",
    "To create a custom module, the first thing we have to do is to extend the `nn.Module`. We can then initialize our parameters in the `__init__` function, starting with a call to the `__init__` function of the super class. All the class attributes we define which are `nn` module objects are treated as parameters, which can be learned during the training. Tensors are not parameters, but they can be turned into parameters if they are wrapped in `nn.Parameter` class.\n",
    "\n",
    "All classes extending `nn.Module` are also expected to implement a `forward(x)` function, where `x` is a tensor. This is the function that is called when a parameter is passed to our module, such as in `model(x)`."
   ]
  },
  {
   "cell_type": "code",
   "execution_count": null,
   "id": "2e30b74c-f95e-41bb-8c93-288ecf4a084a",
   "metadata": {},
   "outputs": [],
   "source": [
    "class MultilayerPerceptron(nn.Module):\n",
    "    def __init__(self, input_size, hidden_size):\n",
    "        # Call to the __init__ function of the super class\n",
    "        super().__init__()\n",
    "\n",
    "        # Bookkeeping: Saving the initialization parameters\n",
    "        self.input_size = input_size\n",
    "        self.hidden_size = hidden_size\n",
    "\n",
    "        # Defining of our model\n",
    "        # There isn't anything specific about the naming of `self.model`.\n",
    "        # It could be something arbitrary.\n",
    "        self.model = nn.Sequential(\n",
    "            nn.Linear(self.input_size, self.hidden_size),\n",
    "            nn.ReLU(),\n",
    "            nn.Linear(self.hidden_size, self.input_size),\n",
    "            nn.Sigmoid(),\n",
    "        )\n",
    "\n",
    "    def forward(self, x):\n",
    "        output = self.model(x)\n",
    "        return output"
   ]
  },
  {
   "cell_type": "markdown",
   "id": "da397de2-5493-44a2-bf2d-494a3da2a6d0",
   "metadata": {},
   "source": [
    "Here is an alternative way to define the same class.\n",
    "You can see that we can replace `nn.Sequential` by defining the individual layers in the `__init__` method and connecting the in the `forward` method. "
   ]
  },
  {
   "cell_type": "code",
   "execution_count": null,
   "id": "fe6c9a45-3ba9-41c4-b54d-e406eb81f4e1",
   "metadata": {},
   "outputs": [],
   "source": [
    "class MultilayerPerceptron(nn.Module):\n",
    "    def __init__(self, input_size, hidden_size):\n",
    "        # Call to the __init__ function of the super class\n",
    "        super().__init__()\n",
    "\n",
    "        # Bookkeeping: Saving the initialization parameters\n",
    "        self.input_size = input_size\n",
    "        self.hidden_size = hidden_size\n",
    "\n",
    "        # Defining of our layers\n",
    "        self.linear = nn.Linear(self.input_size, self.hidden_size)\n",
    "        self.relu = nn.ReLU()\n",
    "        self.linear2 = nn.Linear(self.hidden_size, self.input_size)\n",
    "        self.sigmoid = nn.Sigmoid()\n",
    "\n",
    "    def forward(self, x):\n",
    "        linear = self.linear(x)\n",
    "        relu = self.relu(linear)\n",
    "        linear2 = self.linear2(relu)\n",
    "        output = self.sigmoid(linear2)\n",
    "        return output"
   ]
  },
  {
   "cell_type": "code",
   "execution_count": null,
   "id": "287e60e3-f2a6-42ea-890b-a452e84b8836",
   "metadata": {},
   "outputs": [],
   "source": [
    "# Make a sample input\n",
    "x = torch.randn(2, 5)\n",
    "\n",
    "# Create our model\n",
    "model = MultilayerPerceptron(5, 3)\n",
    "\n",
    "# Pass our input through our model\n",
    "output = model(x)\n",
    "\n",
    "pp.pprint(output)"
   ]
  },
  {
   "cell_type": "markdown",
   "id": "460b395d-627d-4b5b-8168-cc4acdc58a6f",
   "metadata": {},
   "source": [
    "We can inspect the parameters of our model with `named_parameters()` and `parameters()` methods. "
   ]
  },
  {
   "cell_type": "code",
   "execution_count": null,
   "id": "5b729a1a-45ef-4fbe-bd23-96f9b3fc59c1",
   "metadata": {},
   "outputs": [],
   "source": [
    "pp.pprint(list(model.named_parameters()))"
   ]
  },
  {
   "cell_type": "markdown",
   "id": "d2bd9656-d3e5-483e-a422-09cb3bc68f5b",
   "metadata": {},
   "source": [
    "## Optimization\n",
    "We have showed how gradients are calculated with the `backward()` function.\n",
    "Having the gradients isn't enought for our models to learn. We also need to know how to update the parameters of our models.\n",
    "\n",
    "This is where the optomozers comes in.\n",
    "\n",
    "The `torch.optim` module contains several optimizers that we can use.\n",
    "Some popular examples are `optim.SGD` and `optim.Adam`.\n",
    "When initializing optimizers, we pass our model parameters, which can be accessed with `model.parameters()`, telling the optimizers which values it will be optimizing.\n",
    "Optimizers also has a learning rate (`lr`) parameter, which determines how big of an update will be made in every step.\n",
    "Different optimizers have different hyperparameters as well."
   ]
  },
  {
   "cell_type": "code",
   "execution_count": null,
   "id": "f6b78790-88e5-45b2-a810-5a2105cb1511",
   "metadata": {},
   "outputs": [],
   "source": [
    "import torch.optim as optim"
   ]
  },
  {
   "cell_type": "code",
   "execution_count": null,
   "id": "c52bf179-f2c7-4204-baa5-bced1cc4b1ac",
   "metadata": {},
   "outputs": [],
   "source": [
    "# Create the y data\n",
    "y = torch.ones(10, 5)\n",
    "\n",
    "# Add some noise to our goal y to generate our x\n",
    "# We want out model to predict our original data, albeit the noise\n",
    "x = y + torch.randn_like(y)\n",
    "\n",
    "pp.pprint(x)"
   ]
  },
  {
   "cell_type": "markdown",
   "id": "ad238586-f3f7-4b03-a8b4-33018590e7ca",
   "metadata": {},
   "source": [
    "Now, we can define our model, optimizer and the loss function. "
   ]
  },
  {
   "cell_type": "code",
   "execution_count": null,
   "id": "8d0c6089-ec03-46ca-a6c5-79e73968fbe0",
   "metadata": {},
   "outputs": [],
   "source": [
    "# Instantiate the model\n",
    "model = MultilayerPerceptron(5, 3)\n",
    "\n",
    "# Define the optimizer\n",
    "adam = optim.Adam(model.parameters(), lr=1e-1)\n",
    "\n",
    "# Define loss using a predefined loss function\n",
    "loss_function = nn.BCELoss()\n",
    "\n",
    "# Calculate how our model is doing now\n",
    "y_pred = model(x)\n",
    "\n",
    "loss_function(y_pred, y).item()"
   ]
  },
  {
   "cell_type": "code",
   "execution_count": null,
   "id": "e9806ddc-84ee-49b0-bcab-c6ccd7444b92",
   "metadata": {},
   "outputs": [],
   "source": [
    "# Set the number of epoch, which determines the number of training iterations\n",
    "n_epoch = 12\n",
    "\n",
    "for epoch in range(n_epoch):\n",
    "    # Set the gradients to 0\n",
    "    adam.zero_grad()\n",
    "\n",
    "    # Get the model predictions\n",
    "    y_pred = model(x)\n",
    "\n",
    "    # Get the loss\n",
    "    loss = loss_function(y_pred, y)\n",
    "\n",
    "    # Print stats\n",
    "    print(f\"Epoch {epoch}: traing loss: {loss}\")\n",
    "\n",
    "    # Compute the gradients\n",
    "    loss.backward()\n",
    "\n",
    "    # Take a step to optimize the weights\n",
    "    adam.step()"
   ]
  },
  {
   "cell_type": "code",
   "execution_count": null,
   "id": "f647e6a2-7209-4505-96d8-8640d534cec3",
   "metadata": {},
   "outputs": [],
   "source": [
    "list(model.parameters())"
   ]
  },
  {
   "cell_type": "markdown",
   "id": "cb9ae1e9-efb3-4bea-9020-2365641193fb",
   "metadata": {},
   "source": [
    "You can see that our loss is decreasing. Let's check the predictions of our model now and see if they are close to our original `y`, which was all `1s`. "
   ]
  },
  {
   "cell_type": "code",
   "execution_count": null,
   "id": "9ff6faf6-4351-426d-9256-614f3329bb90",
   "metadata": {},
   "outputs": [],
   "source": [
    "# See how our model performs on the training data\n",
    "y_pred = model(x)\n",
    "y_pred"
   ]
  },
  {
   "cell_type": "code",
   "execution_count": null,
   "id": "8490cf7f-92fc-47c9-a143-181466acaa12",
   "metadata": {},
   "outputs": [],
   "source": [
    "# Create test data and check how our model performs on it\n",
    "x2 = y + torch.randn_like(y)\n",
    "y_pred = model(x2)\n",
    "y_pred"
   ]
  },
  {
   "cell_type": "markdown",
   "id": "540f1252-850e-452f-96ef-005ef304fca1",
   "metadata": {},
   "source": [
    "## Demo: Word Window Classification\n",
    "\n",
    "Until this part of the notebook, we have learned the fundamentals of PyTorch and built a basic network solving a toy task. Now we will attempt to solve an example NLP task. Here are the things we will learn:\n",
    "\n",
    "1. Data: Creating a Dataset of Batched Tensors\n",
    "2. Modeling\n",
    "3. Training\n",
    "4. Prediction\n",
    "\n",
    "In this section, our goal will be to train a model that will find the words in a sentence corresponding to a `LOCATION`, which will be always of span `1` (meaning that `San Fransisco` won't be recognized as a `LOCATION`). Our task is called `Word Window Classification` for a reason. Instead of letting our model to only take a look at one word in each forward pass, we would like it to be able to consider the context of the word in question. That is, for each word, we want our model to be aware of the surrounding words. Let's dive in!"
   ]
  },
  {
   "cell_type": "markdown",
   "id": "03c2646c-023e-4a1d-bed3-36ed1731289d",
   "metadata": {},
   "source": [
    "### Data\n",
    "\n",
    "The very first task of any machine learning project is to set up our training set. Usually, there will be a training corpus we will be utilizing. In NLP tasks, the corpus would generally be a `.txt` or `.csv` file where each row corresponds to a sentence or a tabular datapoint. In our toy task, we will assume that we have already read our data and the corresponding labels into a `Python` list."
   ]
  },
  {
   "cell_type": "code",
   "execution_count": null,
   "id": "fde34a64-30fa-492f-80e1-9e3ccb94e640",
   "metadata": {},
   "outputs": [],
   "source": [
    "# Our raw data, which consists of sentences\n",
    "corpus = [\n",
    "    \"We always come to Paris\",\n",
    "    \"The professor is from Australia\",\n",
    "    \"I live in Stanford\",\n",
    "    \"He comes from Taiwan\",\n",
    "    \"The capital of Turkey is Ankara\",\n",
    "]"
   ]
  },
  {
   "cell_type": "markdown",
   "id": "e658ccf8-070e-4b6b-94c4-3bc3f3c0e051",
   "metadata": {},
   "source": [
    "#### Preprocessing\n",
    "\n",
    "To make it easier for our models to learn, we usually apply a few preprocessing steps to our data. This is especially important when dealing with text data. Here are some examples of text preprocessing:\n",
    "* **Tokenization**: Tokenizing the sentences into words.\n",
    "* **Lowercasing**: Changing all the letters to be lowercase.\n",
    "* **Noise removal:** Removing special characters (such as punctuations). \n",
    "* **Stop words removal**: Removing commonly used words.\n",
    "\n",
    "Which preprocessing steps are necessary is determined by the task at hand. For example, although it is useful to remove special characters in some tasks, for others they may be important (for example, if we are dealing with multiple languages). For our task, we will lowercase our words and tokenize. \n"
   ]
  },
  {
   "cell_type": "code",
   "execution_count": null,
   "id": "ae198018-3e1d-4a63-a636-e83cf5552a3b",
   "metadata": {},
   "outputs": [],
   "source": [
    "# The preprocessing function we will use to generate our training examples\n",
    "# Our function is a simple one, we lowercase the letters\n",
    "# and then tokenize the words.\n",
    "def preprocess_sentence(sentence):\n",
    "    return sentence.lower().split()\n",
    "\n",
    "\n",
    "# Create our training set\n",
    "train_sentences = [preprocess_sentence(sent) for sent in corpus]\n",
    "train_sentences"
   ]
  },
  {
   "cell_type": "markdown",
   "id": "1368fc84-f7df-42bb-8728-84912be9509e",
   "metadata": {},
   "source": [
    "For each training example we have, we should also have a corresponding label. Recall that the goal of our model was to determine which words correspond to a `LOCATION`. That is, we want our model to output `0` for all the words that are not `LOCATION`s and `1` for the ones that are `LOCATION`s."
   ]
  },
  {
   "cell_type": "code",
   "execution_count": null,
   "id": "e9b15536-0e2d-441d-8c85-7ba57104ff30",
   "metadata": {},
   "outputs": [],
   "source": [
    "# Set of locations that appear in our corpus\n",
    "locations = set([\"australia\", \"ankara\", \"paris\", \"stanford\", \"taiwan\", \"turkey\"])\n",
    "\n",
    "# Our train labels\n",
    "train_labels = [\n",
    "    [1 if word in locations else 0 for word in sent] for sent in train_sentences\n",
    "]\n",
    "train_labels"
   ]
  },
  {
   "cell_type": "markdown",
   "id": "232b778f-4452-416a-a402-91bb51ebbd4a",
   "metadata": {},
   "source": [
    "#### Converting Words to Embeddings\n",
    "\n",
    "Let's look at our training data a little more closely. Each datapoint we have is a sequence of words. On the other hand, we know that machine learning models work with numbers in vectors. How are we going to turn words into numbers? You may be thinking embeddings and you are right!\n",
    "\n",
    "Imagine that we have an embedding lookup table `E`, where each row corresponds to an embedding. That is, each word in our vocabulary would have a corresponding embedding row `i` in this table. Whenever we want to find an embedding for a word, we will follow these steps:\n",
    "1. Find the corresponding index `i` of the word in the embedding table: `word → index`.\n",
    "2. Index into the embedding table and get the embedding: `index → embedding`.\n",
    "\n",
    "Let's look at the first step. We should assign all the words in our vocabulary to a corresponding index. We can do it as follows:\n",
    "1. Find all the unique words in our corpus.\n",
    "2. Assign an index to each."
   ]
  },
  {
   "cell_type": "code",
   "execution_count": null,
   "id": "5d65bc96-ae3c-4d0f-b33d-74b8633b51f0",
   "metadata": {},
   "outputs": [],
   "source": [
    "# Find all the unique words in our corpus\n",
    "vocabulary = set(w for s in train_sentences for w in s)\n",
    "pp.pprint(vocabulary)"
   ]
  },
  {
   "cell_type": "markdown",
   "id": "092ac57b-fcc0-42d6-a486-509e530af008",
   "metadata": {},
   "source": [
    "`vocabulary` now contains all the words in our corpus. On the other hand, during the test time, we can see words that are not contained in our vocabulary. If we can figure out a way to represent the unknown words, our model can still reason about whether they are a `LOCATION` or not, since we are also looking at the neighboring words for each prediction. \n",
    "\n",
    "We introduce a special token, `<unk>`, to tackle the words that are out of vocabulary. We could pick another string for our unknown token if we wanted. The only requirement here is that our token should be unique: we should only be using this token for unknown words. We will also add this special token to our vocabulary. "
   ]
  },
  {
   "cell_type": "code",
   "execution_count": null,
   "id": "6d1bfae1-8cff-4f24-9faa-2b6ed798a364",
   "metadata": {},
   "outputs": [],
   "source": [
    "# Add the unknown token to our vocabulary\n",
    "vocabulary.add(\"<unk>\")"
   ]
  },
  {
   "cell_type": "markdown",
   "id": "57497d89-6d2a-4f76-beb1-bd8bbeef47b8",
   "metadata": {},
   "source": [
    "Earlier we mentioned that our task was called `Word Window Classification` because our model is looking at the surroundings words in addition to the given word when it needs to make a prediction. \n",
    "\n",
    "For example, let's take the sentence \"We always come to Paris\". The corresponding training label for this sentence is `0, 0, 0, 0, 1` since only Paris, the last word, is a `LOCATION`. In one pass (meaning a call to `forward()`), our model will try to generate the correct label for one word. Let's say our model is trying to generate the correct label `1` for `Paris`. If we only allow our model to see `Paris`, but nothing else, we will miss out on the important information that the word `to` often times appears with `LOCATION`s. \n",
    "\n",
    "Word windows allow our model to consider the surrounding `+N` or `-N` words of each word when making a prediction. In our earlier example for `Paris`, if we have a window size of 1, that means our model will look at the words that come immediately before and after `Paris`, which are `to`, and, well, nothing. Now, this raises another issue. `Paris` is at the end of our sentence, so there isn't another word following it. Remember that we define the input dimensions of our `PyTorch` models when we are initializing them. If we set the window size to be `1`, it means that our model will be accepting `3` words in every pass. We cannot have our model expect `2` words from time to time.\n",
    "\n",
    "The solution is to introduce a special token, such as `<pad>`, that will be added to our sentences to make sure that every word has a valid window around them. Similar to `<unk>` token, we could pick another string for our pad token if we wanted, as long as we make sure it is used for a unique purpose. "
   ]
  },
  {
   "cell_type": "code",
   "execution_count": null,
   "id": "683162ca-7901-4372-a77f-a476addc5dab",
   "metadata": {},
   "outputs": [],
   "source": [
    "# Add the <pad> token to our vocabulary\n",
    "vocabulary.add(\"<pad>\")\n",
    "\n",
    "# Function that pads the given sentence\n",
    "# We are introducing this function here as an example\n",
    "# We will be utilizing it later in the tutorial\n",
    "def pad_window(sentence, window_size, pad_token=\"<pad>\"):\n",
    "    window = [pad_token] * window_size\n",
    "    return window + sentence + window\n",
    "\n",
    "\n",
    "# Show padding example\n",
    "window_size = 2\n",
    "pad_window(train_sentences[0], window_size=window_size)"
   ]
  },
  {
   "cell_type": "code",
   "execution_count": null,
   "id": "56de18c4-08da-4d25-a843-4cef8afcce57",
   "metadata": {},
   "outputs": [],
   "source": [
    "# We are just converting our vocabularly to a list to be able to index into it\n",
    "# Sorting is not necessary, we sort to show an ordered word_to_ind dictionary\n",
    "# That being said, we will see that having the index for the padding token\n",
    "# be 0 is convenient as some PyTorch functions use it as a default value\n",
    "# such as nn.utils.rnn.pad_sequence, which we will cover in a bit\n",
    "ix_to_word = sorted(list(vocabulary))\n",
    "\n",
    "# Creating a dictionary to find the index of a given word\n",
    "word_to_ix = {word: ind for ind, word in enumerate(ix_to_word)}\n",
    "word_to_ix"
   ]
  },
  {
   "cell_type": "code",
   "execution_count": null,
   "id": "ed9781b1-a05e-41f2-b433-764b57eee108",
   "metadata": {},
   "outputs": [],
   "source": [
    "ix_to_word[1]"
   ]
  },
  {
   "cell_type": "code",
   "execution_count": null,
   "id": "ed6f25d4-90e9-4c19-8c09-df670ec9472f",
   "metadata": {},
   "outputs": [],
   "source": [
    "# Given a sentence of tokens, return the corresponding indices\n",
    "def convert_token_to_indices(sentence, word_to_ix):\n",
    "    indices = []\n",
    "    for token in sentence:\n",
    "        # Check if the token is in our vocabularly. If it is, get it's index.\n",
    "        # If not, get the index for the unknown token.\n",
    "        if token in word_to_ix:\n",
    "            index = word_to_ix[token]\n",
    "        else:\n",
    "            index = word_to_ix[\"<unk>\"]\n",
    "        indices.append(index)\n",
    "    return indices\n",
    "\n",
    "\n",
    "# More compact version of the same function\n",
    "def _convert_token_to_indices(sentence, word_to_ix):\n",
    "    return [word_to_ind.get(token, word_to_ix[\"<unk>\"]) for token in sentence]\n",
    "\n",
    "\n",
    "# Show an example\n",
    "example_sentence = [\"we\", \"always\", \"come\", \"to\", \"kuwait\"]\n",
    "example_indices = convert_token_to_indices(example_sentence, word_to_ix)\n",
    "restored_example = [ix_to_word[ind] for ind in example_indices]\n",
    "\n",
    "print(f\"Original sentence is: {example_sentence}\")\n",
    "print(f\"Going from words to indices: {example_indices}\")\n",
    "print(f\"Going from indices to words: {restored_example}\")"
   ]
  },
  {
   "cell_type": "markdown",
   "id": "41e5ae61-46ba-4e94-9d80-70d2e1b6befd",
   "metadata": {},
   "source": [
    "In the example above, `kuwait` shows up as `<unk>`, because it is not included in our vocabulary. Let's convert our `train_sentences` to `example_padded_indices`. "
   ]
  },
  {
   "cell_type": "code",
   "execution_count": null,
   "id": "01918b1e-e9af-4b62-be28-0b48298c9244",
   "metadata": {},
   "outputs": [],
   "source": [
    "# Converting our sentences to indices\n",
    "example_padded_indices = [\n",
    "    convert_token_to_indices(s, word_to_ix) for s in train_sentences\n",
    "]\n",
    "example_padded_indices"
   ]
  },
  {
   "cell_type": "markdown",
   "id": "d4df8aec-d784-4728-9313-c577a86509ad",
   "metadata": {},
   "source": [
    "Now that we have an index for each word in our vocabularly, we can create an embedding table with `nn.Embedding` class in `PyTorch`. It is called as follows `nn.Embedding(num_words, embedding_dimension)` where `num_words` is the number of words in our vocabulary and the `embedding_dimension` is the dimension of the embeddings we want to have. There is nothing fancy about `nn.Embedding`: it is just a wrapper class around a trainabe `NxE` dimensional tensor, where `N` is the number of words in our vocabulary and `E` is the number of embedding dimensions. This table is initially random, but it will change over time. As we train our network, the gradients will be backpropagated all the way to the embedding layer, and hence our word embeddings would be updated. We will initiliaze the embedding layer we will use for our model in our model, but we are showing an example here. "
   ]
  },
  {
   "cell_type": "code",
   "execution_count": null,
   "id": "ea9fb9e8-627a-4de3-a4fb-50fa9e49f5d3",
   "metadata": {},
   "outputs": [],
   "source": [
    "# Creating an embedding table for our words\n",
    "embedding_dim = 5\n",
    "embeds = nn.Embedding(len(vocabulary), embedding_dim)\n",
    "\n",
    "# Printing the parameters in our embedding table\n",
    "pp.pprint(list(embeds.parameters()))"
   ]
  },
  {
   "cell_type": "markdown",
   "id": "fff2c103-9753-4e01-86d6-632f909ece58",
   "metadata": {},
   "source": [
    "To get the word embedding for a word in our vocabulary, all we need to do is to create a lookup tensor. The lookup tensor is just a tensor containing the index we want to look up `nn.Embedding` class expects an index tensor that is of type Long Tensor, so we should create our tensor accordingly. "
   ]
  },
  {
   "cell_type": "code",
   "execution_count": null,
   "id": "35c050dd-6bf5-49c2-b49e-8beb41f43c21",
   "metadata": {},
   "outputs": [],
   "source": [
    "# Get the embedding for the word Paris\n",
    "index = word_to_ix[\"paris\"]\n",
    "index_tensor = torch.tensor(index, dtype=torch.long)\n",
    "paris_embed = embeds(index_tensor)\n",
    "paris_embed"
   ]
  },
  {
   "cell_type": "code",
   "execution_count": null,
   "id": "ec9bfcda-0be9-4aa9-8f1f-dc4295c6d150",
   "metadata": {},
   "outputs": [],
   "source": [
    "# We can also get multiple embeddings at once\n",
    "index_paris = word_to_ix[\"paris\"]\n",
    "index_ankara = word_to_ix[\"ankara\"]\n",
    "indices = [index_paris, index_ankara]\n",
    "indices_tensor = torch.tensor(indices, dtype=torch.long)\n",
    "embeddings = embeds(indices_tensor)\n",
    "embeddings"
   ]
  },
  {
   "cell_type": "markdown",
   "id": "4a52c646-f2b8-43f5-91e7-c330026d087b",
   "metadata": {},
   "source": [
    "Usually, we define the embedding layer as part of our model, which you will see in the later sections of our notebook. "
   ]
  },
  {
   "cell_type": "markdown",
   "id": "47346166-2386-40aa-896b-a22c65e0f7c7",
   "metadata": {},
   "source": [
    "#### Batching Sentences\n",
    "\n",
    "We have learned about batches in class.\n",
    "Waiting our whole training corpus to be processed before making an update is costly.\n",
    "On the other hand, updating the parameters after every training example causes the loss to be less stable between updates.\n",
    "To combat these issues, we instead update our parameters after training on a batch of data.\n",
    "This allows us to get a better estimate of the gradient of the global loss. \n",
    "In this section, we will learn how to structure our data into batches using the `torch.util.data.DataLoader` class. \n",
    "\n",
    "We will be calling the `DataLoader` class as follows:\n",
    "\n",
    "`DataLoader(data, batch_size=batch_size, shuffle=True, collate_fn=collate_fn)`.\n",
    "\n",
    "The `batch_size` parameter determines the number of examples per batch.\n",
    "In every epoch, we will be iterating over all the batches using the `DataLoader`.\n",
    "The order of batches is deterministic by default, but we can ask `DataLoader` to shuffle the batches by setting the `shuffle` parameter to `True`.\n",
    "This way we ensure that we don't encounter a bad batch multiple times.\n",
    "\n",
    "If provided, `DataLoader` passes the batches it prepares to the `collate_fn`.\n",
    "We can write a custom function to pass to the `collate_fn` parameter in order to print stats about our batch or perform extra processing.\n",
    "In our case, we will use the `collate_fn` to:\n",
    "\n",
    "1. Window pad our train sentences.\n",
    "2. Convert the words in the training examples to indices.\n",
    "3. Pad the training examples so that all the sentences and labels have the same length.\n",
    "   Similarly, we also need to pad the labels. This creates an issue because when calculating the loss, we need to know the actual number of words in a given example.\n",
    "   We will also keep track of this number in the function we pass to the `collate_fn` parameter.\n",
    "\n",
    "\n",
    "Because our version of the `collate_fn` function will need to access to our `word_to_ix` dictionary (so that it can turn words into indices), we will make use of the `partial` function in `Python`, which passes the parameters we give to the function we pass it. "
   ]
  },
  {
   "cell_type": "code",
   "execution_count": null,
   "id": "b8a532c5-82b9-4512-b1fe-4270568f2d2d",
   "metadata": {},
   "outputs": [],
   "source": [
    "from torch.utils.data import DataLoader\n",
    "from functools import partial\n",
    "\n",
    "\n",
    "def custom_collate_fn(batch, window_size, word_to_ix):\n",
    "    # Break our batch into the training examples (x) and labels (y)\n",
    "    # We are turning our x and y into tensors because nn.utils.rnn.pad_sequence\n",
    "    # method expects tensors. This is also useful since our model will be\n",
    "    # expecting tensor inputs.\n",
    "    x, y = zip(*batch)\n",
    "\n",
    "    # Now we need to window pad our training examples. We have already defined a\n",
    "    # function to handle window padding. We are including it here again so that\n",
    "    # everything is in one place.\n",
    "    def pad_window(sentence, window_size, pad_token=\"<pad>\"):\n",
    "        window = [pad_token] * window_size\n",
    "        return window + sentence + window\n",
    "\n",
    "    # Pad the train examples.\n",
    "    x = [pad_window(s, window_size=window_size) for s in x]\n",
    "\n",
    "    # Now we need to turn words in our training examples to indices. We are\n",
    "    # copying the function defined earlier for the same reason as above.\n",
    "    def convert_tokens_to_indices(sentence, word_to_ix):\n",
    "        return [word_to_ix.get(token, word_to_ix[\"<unk>\"]) for token in sentence]\n",
    "\n",
    "    # Convert the train examples into indices.\n",
    "    x = [convert_tokens_to_indices(s, word_to_ix) for s in x]\n",
    "\n",
    "    # We will now pad the examples so that the lengths of all the example in\n",
    "    # one batch are the same, making it possible to do matrix operations.\n",
    "    # We set the batch_first parameter to True so that the returned matrix has\n",
    "    # the batch as the first dimension.\n",
    "    pad_token_ix = word_to_ix[\"<pad>\"]\n",
    "\n",
    "    # pad_sequence function expects the input to be a tensor, so we turn x into one\n",
    "    x = [torch.LongTensor(x_i) for x_i in x]\n",
    "    x_padded = nn.utils.rnn.pad_sequence(\n",
    "        x, batch_first=True, padding_value=pad_token_ix\n",
    "    )\n",
    "\n",
    "    # We will also pad the labels. Before doing so, we will record the number\n",
    "    # of labels so that we know how many words existed in each example.\n",
    "    lengths = [len(label) for label in y]\n",
    "    lenghts = torch.LongTensor(lengths)\n",
    "\n",
    "    y = [torch.LongTensor(y_i) for y_i in y]\n",
    "    y_padded = nn.utils.rnn.pad_sequence(y, batch_first=True, padding_value=0)\n",
    "\n",
    "    # We are now ready to return our variables. The order we return our variables\n",
    "    # here will match the order we read them in our training loop.\n",
    "    return x_padded, y_padded, lenghts"
   ]
  },
  {
   "cell_type": "markdown",
   "id": "99312309-25b0-4f4a-9c4d-0b72ce04ca2d",
   "metadata": {},
   "source": [
    "This function seems long, but it really doesn't have to be. Check out the alternative version below where we remove the extra function declarations and comments. "
   ]
  },
  {
   "cell_type": "code",
   "execution_count": null,
   "id": "47ed99da-cdfa-499a-8a65-5a1c0ceb274a",
   "metadata": {},
   "outputs": [],
   "source": [
    "def _custom_collate_fn(batch, window_size, word_to_ix):\n",
    "    # Prepare the datapoints\n",
    "    x, y = zip(*batch)\n",
    "    x = [pad_window(s, window_size=window_size) for s in x]\n",
    "    x = [convert_tokens_to_indices(s, word_to_ix) for s in x]\n",
    "\n",
    "    # Pad x so that all the examples in the batch have the same size\n",
    "    pad_token_ix = word_to_ix[\"<pad>\"]\n",
    "    x = [torch.LongTensor(x_i) for x_i in x]\n",
    "    x_padded = nn.utils.rnn.pad_sequence(\n",
    "        x, batch_first=True, padding_value=pad_token_ix\n",
    "    )\n",
    "\n",
    "    # Pad y and record the length\n",
    "    lengths = [len(label) for label in y]\n",
    "    lenghts = torch.LongTensor(lengths)\n",
    "    y = [torch.LongTensor(y_i) for y_i in y]\n",
    "    y_padded = nn.utils.rnn.pad_sequence(y, batch_first=True, padding_value=0)\n",
    "\n",
    "    return x_padded, y_padded, lenghts"
   ]
  },
  {
   "cell_type": "markdown",
   "id": "2f2219a6-a413-48ad-9278-d3b5451c4850",
   "metadata": {},
   "source": [
    "Now, we can see the `DataLoader` in action. "
   ]
  },
  {
   "cell_type": "code",
   "execution_count": null,
   "id": "2c568c73-a0f8-4a0c-9940-8b8c1f3b971f",
   "metadata": {},
   "outputs": [],
   "source": [
    "# Parameters to be passed to the DataLoader\n",
    "data = list(zip(train_sentences, train_labels))\n",
    "batch_size = 2\n",
    "shuffle = True\n",
    "window_size = 2\n",
    "collate_fn = partial(custom_collate_fn, window_size=window_size, word_to_ix=word_to_ix)\n",
    "\n",
    "# Instantiate the DataLoader\n",
    "loader = DataLoader(data, batch_size=batch_size, shuffle=shuffle, collate_fn=collate_fn)\n",
    "\n",
    "# Go through one loop\n",
    "counter = 0\n",
    "for batched_x, batched_y, batched_lengths in loader:\n",
    "    print(f\"Iteration {counter}\")\n",
    "    print(\"Batched Input:\")\n",
    "    print(batched_x)\n",
    "    print(\"Batched Labels:\")\n",
    "    print(batched_y)\n",
    "    print(\"Batched Lengths:\")\n",
    "    print(batched_lengths)\n",
    "    print(\"\")\n",
    "    counter += 1"
   ]
  },
  {
   "cell_type": "markdown",
   "id": "aaf6fd97-6394-4824-b307-79f75229cb97",
   "metadata": {},
   "source": [
    "The batched input tensors you see above will be passed into our model. On the other hand, we started off saying that our model will be a window classifier. The way our input tensors are currently formatted, we have all the words in a sentence in one datapoint. When we pass this input to our model, it needs to create the windows for each word, make a prediction as to whether the center word is a `LOCATION` or not for each window, put the predictions together and return. \n",
    "\n",
    "We could avoid this problem if we formatted our data by breaking it into windows beforehand. In this example, we will instead how our model take care of the formatting. \n",
    "\n",
    "Given that our `window_size` is `N` we want our model to make a prediction on every `2N+1` tokens. That is, if we have an input with `9` tokens, and a `window_size` of `2`, we want our model to return `5` predictions. This makes sense because before we padded it with `2` tokens on each side, our input also had `5` tokens in it! \n",
    "\n",
    "We can create these windows by using for loops, but there is a faster `PyTorch` alternative, which is the `unfold(dimension, size, step)` method. We can create the windows we need using this method as follows:"
   ]
  },
  {
   "cell_type": "code",
   "execution_count": null,
   "id": "7634a6f0-357f-43d5-9d2f-e635e51c5d0b",
   "metadata": {},
   "outputs": [],
   "source": [
    "# Print the original tensor\n",
    "print(f\"Original Tensor: \")\n",
    "print(batched_x)\n",
    "print(\"\")\n",
    "\n",
    "# Create the 2 * 2 + 1 chunks\n",
    "chunk = batched_x.unfold(1, window_size * 2 + 1, 1)\n",
    "print(f\"Windows: \")\n",
    "print(chunk)"
   ]
  },
  {
   "cell_type": "markdown",
   "id": "b2eab850-ad2a-4bf0-b99a-fe7ccaa3cd07",
   "metadata": {},
   "source": [
    "### Model\n",
    "\n",
    "Now that we have prepared our data, we are ready to build our model. We have learned how to write custom `nn.Module` classes. We will do the same here and put everything we have learned so far together. "
   ]
  },
  {
   "cell_type": "code",
   "execution_count": null,
   "id": "9be55eeb-f53b-4d74-9036-b8df27398fc4",
   "metadata": {},
   "outputs": [],
   "source": [
    "class WordWindowClassifier(nn.Module):\n",
    "    def __init__(self, hyperparameters, vocab_size, pad_ix=0):\n",
    "        super(WordWindowClassifier, self).__init__()\n",
    "\n",
    "        \"\"\" Instance variables \"\"\"\n",
    "        self.window_size = hyperparameters[\"window_size\"]\n",
    "        self.embed_dim = hyperparameters[\"embed_dim\"]\n",
    "        self.hidden_dim = hyperparameters[\"hidden_dim\"]\n",
    "        self.freeze_embeddings = hyperparameters[\"freeze_embeddings\"]\n",
    "\n",
    "        \"\"\" Embedding Layer \n",
    "        Takes in a tensor containing embedding indices, and returns the \n",
    "        corresponding embeddings. The output is of dim \n",
    "        (number_of_indices * embedding_dim).\n",
    "\n",
    "        If freeze_embeddings is True, set the embedding layer parameters to be\n",
    "        non-trainable. This is useful if we only want the parameters other than the\n",
    "        embeddings parameters to change. \n",
    "\n",
    "        \"\"\"\n",
    "        self.embeds = nn.Embedding(vocab_size, self.embed_dim, padding_idx=pad_ix)\n",
    "        if self.freeze_embeddings:\n",
    "            self.embed_layer.weight.requires_grad = False\n",
    "\n",
    "        \"\"\" Hidden Layer\n",
    "        \"\"\"\n",
    "        full_window_size = 2 * window_size + 1\n",
    "        self.hidden_layer = nn.Sequential(\n",
    "            nn.Linear(full_window_size * self.embed_dim, self.hidden_dim), nn.Tanh()\n",
    "        )\n",
    "\n",
    "        \"\"\" Output Layer\n",
    "        \"\"\"\n",
    "        self.output_layer = nn.Linear(self.hidden_dim, 1)\n",
    "\n",
    "        \"\"\" Probabilities \n",
    "        \"\"\"\n",
    "        self.probabilities = nn.Sigmoid()\n",
    "\n",
    "    def forward(self, inputs):\n",
    "        \"\"\"\n",
    "        Let B:= batch_size\n",
    "            L:= window-padded sentence length\n",
    "            D:= self.embed_dim\n",
    "            S:= self.window_size\n",
    "            H:= self.hidden_dim\n",
    "\n",
    "        inputs: a (B, L) tensor of token indices\n",
    "        \"\"\"\n",
    "        B, L = inputs.size()\n",
    "\n",
    "        \"\"\"\n",
    "        Reshaping.\n",
    "        Takes in a (B, L) LongTensor\n",
    "        Outputs a (B, L~, S) LongTensor\n",
    "        \"\"\"\n",
    "        # Fist, get our word windows for each word in our input.\n",
    "        token_windows = inputs.unfold(1, 2 * self.window_size + 1, 1)\n",
    "        _, adjusted_length, _ = token_windows.size()\n",
    "\n",
    "        # Good idea to do internal tensor-size sanity checks, at the least in comments!\n",
    "        assert token_windows.size() == (B, adjusted_length, 2 * self.window_size + 1)\n",
    "\n",
    "        \"\"\"\n",
    "        Embedding.\n",
    "        Takes in a torch.LongTensor of size (B, L~, S) \n",
    "        Outputs a (B, L~, S, D) FloatTensor.\n",
    "        \"\"\"\n",
    "        embedded_windows = self.embeds(token_windows)\n",
    "\n",
    "        \"\"\"\n",
    "        Reshaping.\n",
    "        Takes in a (B, L~, S, D) FloatTensor.\n",
    "        Resizes it into a (B, L~, S*D) FloatTensor.\n",
    "        -1 argument \"infers\" what the last dimension should be based on leftover axes.\n",
    "        \"\"\"\n",
    "        embedded_windows = embedded_windows.view(B, adjusted_length, -1)\n",
    "\n",
    "        \"\"\"\n",
    "        Layer 1.\n",
    "        Takes in a (B, L~, S*D) FloatTensor.\n",
    "        Resizes it into a (B, L~, H) FloatTensor\n",
    "        \"\"\"\n",
    "        layer_1 = self.hidden_layer(embedded_windows)\n",
    "\n",
    "        \"\"\"\n",
    "        Layer 2\n",
    "        Takes in a (B, L~, H) FloatTensor.\n",
    "        Resizes it into a (B, L~, 1) FloatTensor.\n",
    "        \"\"\"\n",
    "        output = self.output_layer(layer_1)\n",
    "\n",
    "        \"\"\"\n",
    "        Softmax.\n",
    "        Takes in a (B, L~, 1) FloatTensor of unnormalized class scores.\n",
    "        Outputs a (B, L~, 1) FloatTensor of (log-)normalized class scores.\n",
    "        \"\"\"\n",
    "        output = self.probabilities(output)\n",
    "        output = output.view(B, -1)\n",
    "\n",
    "        return output"
   ]
  },
  {
   "cell_type": "markdown",
   "id": "2d478570-3ff9-4213-a951-ea8ae9829f91",
   "metadata": {},
   "source": [
    "### Training\n",
    "\n",
    "We are now ready to put everything together. Let's start with preparing our data and intializing our model. We can then intialize our optimizer and define our loss function. This time, instead of using one of the predefined loss function as we did before, we will define our own loss function. "
   ]
  },
  {
   "cell_type": "code",
   "execution_count": null,
   "id": "3a4834ca-1c8f-434d-9877-9a01c795a54f",
   "metadata": {},
   "outputs": [],
   "source": [
    "# Prepare the data\n",
    "data = list(zip(train_sentences, train_labels))\n",
    "batch_size = 2\n",
    "shuffle = True\n",
    "window_size = 2\n",
    "collate_fn = partial(custom_collate_fn, window_size=window_size, word_to_ix=word_to_ix)\n",
    "\n",
    "# Instantiate a DataLoader\n",
    "loader = DataLoader(data, batch_size=batch_size, shuffle=shuffle, collate_fn=collate_fn)\n",
    "\n",
    "# Initialize a model\n",
    "# It is useful to put all the model hyperparameters in a dictionary\n",
    "model_hyperparameters = {\n",
    "    \"batch_size\": 4,\n",
    "    \"window_size\": 2,\n",
    "    \"embed_dim\": 25,\n",
    "    \"hidden_dim\": 25,\n",
    "    \"freeze_embeddings\": False,\n",
    "}\n",
    "\n",
    "vocab_size = len(word_to_ix)\n",
    "model = WordWindowClassifier(model_hyperparameters, vocab_size)\n",
    "\n",
    "# Define an optimizer\n",
    "learning_rate = 0.01\n",
    "optimizer = torch.optim.SGD(model.parameters(), lr=learning_rate)\n",
    "\n",
    "# Define a loss function, which computes to binary cross entropy loss\n",
    "def loss_function(batch_outputs, batch_labels, batch_lengths):\n",
    "    # Calculate the loss for the whole batch\n",
    "    bceloss = nn.BCELoss()\n",
    "    loss = bceloss(batch_outputs, batch_labels.float())\n",
    "\n",
    "    # Rescale the loss. Remember that we have used lengths to store the\n",
    "    # number of words in each training example\n",
    "    loss = loss / batch_lengths.sum().float()\n",
    "\n",
    "    return loss"
   ]
  },
  {
   "cell_type": "markdown",
   "id": "8444e7e1-0acf-43e2-8531-e1d5770b9a85",
   "metadata": {},
   "source": [
    "Unlike our earlier example, this time instead of passing all of our training data to the model at once in each epoch, we will be utilizing batches. Hence, in each training epoch iteration, we also iterate over the batches."
   ]
  },
  {
   "cell_type": "code",
   "execution_count": null,
   "id": "63110f68-aac7-471a-b257-02e0edbdc6ab",
   "metadata": {},
   "outputs": [],
   "source": [
    "# Function that will be called in every epoch\n",
    "def train_epoch(loss_function, optimizer, model, loader):\n",
    "\n",
    "    # Keep track of the total loss for the batch\n",
    "    total_loss = 0\n",
    "    for batch_inputs, batch_labels, batch_lengths in loader:\n",
    "        # Clear the gradients\n",
    "        optimizer.zero_grad()\n",
    "        # Run a forward pass\n",
    "        outputs = model.forward(batch_inputs)\n",
    "        # Compute the batch loss\n",
    "        loss = loss_function(outputs, batch_labels, batch_lengths)\n",
    "        # Calculate the gradients\n",
    "        loss.backward()\n",
    "        # Update the parameteres\n",
    "        optimizer.step()\n",
    "        total_loss += loss.item()\n",
    "\n",
    "    return total_loss\n",
    "\n",
    "\n",
    "# Function containing our main training loop\n",
    "def train(loss_function, optimizer, model, loader, num_epochs=10000):\n",
    "\n",
    "    # Iterate through each epoch and call our train_epoch function\n",
    "    for epoch in range(num_epochs):\n",
    "        epoch_loss = train_epoch(loss_function, optimizer, model, loader)\n",
    "        if epoch % 100 == 0:\n",
    "            print(epoch_loss)"
   ]
  },
  {
   "cell_type": "markdown",
   "id": "6bc8f58f-678d-41f8-b23c-0aa624b06959",
   "metadata": {},
   "source": [
    "Let's start training!"
   ]
  },
  {
   "cell_type": "code",
   "execution_count": null,
   "id": "89e9dedd-72cc-418a-bc35-52df808666e5",
   "metadata": {},
   "outputs": [],
   "source": [
    "num_epochs = 1000\n",
    "\n",
    "train(loss_function, optimizer, model, loader, num_epochs=num_epochs)"
   ]
  },
  {
   "cell_type": "markdown",
   "id": "4b5ad994-5db5-424f-a227-0b78890bca66",
   "metadata": {},
   "source": [
    "### Prediction\n",
    "\n",
    "Let's see how well our model is at making predictions.\n",
    "We can start by creating our test data."
   ]
  },
  {
   "cell_type": "code",
   "execution_count": null,
   "id": "c6557960-64b4-4b8e-8b14-9bb45e148610",
   "metadata": {},
   "outputs": [],
   "source": [
    "# Create test sentences\n",
    "test_corpus = [\"She comes from Paris\"]\n",
    "test_sentences = [s.lower().split() for s in test_corpus]\n",
    "test_labels = [[0, 0, 0, 1]]\n",
    "\n",
    "# Create a test loader\n",
    "test_data = list(zip(test_sentences, test_labels))\n",
    "batch_size = 1\n",
    "shuffle = False\n",
    "window_size = 2\n",
    "collate_fn = partial(custom_collate_fn, window_size=2, word_to_ix=word_to_ix)\n",
    "test_loader = torch.utils.data.DataLoader(\n",
    "    test_data, batch_size=1, shuffle=False, collate_fn=collate_fn\n",
    ")"
   ]
  },
  {
   "cell_type": "code",
   "execution_count": null,
   "id": "054f3614-b016-437f-a66d-d12009556ea2",
   "metadata": {},
   "outputs": [],
   "source": [
    "for test_instance, labels, _ in test_loader:\n",
    "    outputs = model.forward(test_instance)\n",
    "    print(labels)\n",
    "    print(outputs)"
   ]
  },
  {
   "cell_type": "code",
   "execution_count": null,
   "id": "94dd821c-55af-42e6-8107-a0db9385b013",
   "metadata": {},
   "outputs": [],
   "source": []
  }
 ],
 "metadata": {
  "kernelspec": {
   "display_name": "Python 3 (ipykernel)",
   "language": "python",
   "name": "python3"
  },
  "language_info": {
   "codemirror_mode": {
    "name": "ipython",
    "version": 3
   },
   "file_extension": ".py",
   "mimetype": "text/x-python",
   "name": "python",
   "nbconvert_exporter": "python",
   "pygments_lexer": "ipython3",
   "version": "3.10.2"
  }
 },
 "nbformat": 4,
 "nbformat_minor": 5
}
