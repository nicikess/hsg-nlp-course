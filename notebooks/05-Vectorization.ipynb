{
 "cells": [
  {
   "cell_type": "code",
   "execution_count": 1,
   "id": "73085d41-ab26-4d5e-bbb5-f6e2a70423a6",
   "metadata": {},
   "outputs": [],
   "source": [
    "import numpy as np\n",
    "import torch"
   ]
  },
  {
   "cell_type": "code",
   "execution_count": 15,
   "id": "b24b2bed-c738-4661-9dee-7566cce40ea4",
   "metadata": {},
   "outputs": [],
   "source": [
    "N = 50000   # samples\n",
    "d = 300   # dimensionality\n",
    "C = 5     # n classes"
   ]
  },
  {
   "cell_type": "markdown",
   "id": "7ab5409b-cb46-4bf6-b761-06c9ff8ebf94",
   "metadata": {},
   "source": [
    "# pure numpy, no vectorization"
   ]
  },
  {
   "cell_type": "code",
   "execution_count": 16,
   "id": "69f4d653-214c-4e02-80cd-aa205f3183d0",
   "metadata": {},
   "outputs": [],
   "source": [
    "W = np.random.rand(C, d).astype(np.float32)\n",
    "wl = [np.random.rand(d, 1).astype(np.float32) for i in range(N)]"
   ]
  },
  {
   "cell_type": "code",
   "execution_count": 17,
   "id": "c8199e2b-cb96-41a2-a718-b016fa6e0f74",
   "metadata": {},
   "outputs": [
    {
     "name": "stdout",
     "output_type": "stream",
     "text": [
      "74.9 ms ± 953 µs per loop (mean ± std. dev. of 7 runs, 10 loops each)\n"
     ]
    }
   ],
   "source": [
    "%%timeit\n",
    "r = [np.matmul(W, wli) for wli in wl]"
   ]
  },
  {
   "cell_type": "markdown",
   "id": "1f39983c-1fb2-46a0-95b5-31257872b3dc",
   "metadata": {},
   "source": [
    "# pure numpy, with vectorization"
   ]
  },
  {
   "cell_type": "code",
   "execution_count": 18,
   "id": "b56066ff-a9e2-44c9-a9a8-53184348725b",
   "metadata": {},
   "outputs": [],
   "source": [
    "W = np.random.rand(C, d).astype(np.float32)\n",
    "wl = np.random.rand(d, N).astype(np.float32)"
   ]
  },
  {
   "cell_type": "code",
   "execution_count": 19,
   "id": "4d05c6be-c570-4e7d-88b0-e514a9008581",
   "metadata": {},
   "outputs": [
    {
     "name": "stdout",
     "output_type": "stream",
     "text": [
      "1.36 ms ± 86.2 µs per loop (mean ± std. dev. of 7 runs, 1,000 loops each)\n"
     ]
    }
   ],
   "source": [
    "%%timeit\n",
    "r = np.matmul(W, wl)"
   ]
  },
  {
   "cell_type": "markdown",
   "id": "51044eab-962f-445c-afc5-9f269895f2a3",
   "metadata": {},
   "source": [
    "# torch, no GPU"
   ]
  },
  {
   "cell_type": "code",
   "execution_count": 20,
   "id": "47c91362-a9b8-4cdb-b15c-fdf2be1b2c07",
   "metadata": {},
   "outputs": [],
   "source": [
    "W = torch.rand(C, d, dtype=torch.float32)\n",
    "wl = torch.rand(d, N, dtype=torch.float32)"
   ]
  },
  {
   "cell_type": "code",
   "execution_count": 21,
   "id": "246da250-85e8-41e8-9a86-f30c7255d38f",
   "metadata": {},
   "outputs": [
    {
     "name": "stdout",
     "output_type": "stream",
     "text": [
      "18.4 ms ± 59.7 µs per loop (mean ± std. dev. of 7 runs, 100 loops each)\n"
     ]
    }
   ],
   "source": [
    "%%timeit\n",
    "r = torch.matmul(W, wl)"
   ]
  },
  {
   "cell_type": "markdown",
   "id": "8d61849f-bf8f-4a3c-b9c6-69689a42824f",
   "metadata": {},
   "source": [
    "# torch, with GPU"
   ]
  },
  {
   "cell_type": "code",
   "execution_count": 22,
   "id": "384a8359-8bd6-41f3-bd37-6b9e4e6573eb",
   "metadata": {},
   "outputs": [],
   "source": [
    "W = torch.rand(C, d, dtype=torch.float32).cuda()\n",
    "wl = torch.rand(d, N, dtype=torch.float32).cuda()"
   ]
  },
  {
   "cell_type": "code",
   "execution_count": 23,
   "id": "a6d93538-20de-4a19-9dac-8b9155803fa8",
   "metadata": {},
   "outputs": [
    {
     "name": "stdout",
     "output_type": "stream",
     "text": [
      "94 µs ± 13.3 ns per loop (mean ± std. dev. of 7 runs, 10,000 loops each)\n"
     ]
    }
   ],
   "source": [
    "%%timeit\n",
    "r = torch.matmul(W, wl)"
   ]
  },
  {
   "cell_type": "code",
   "execution_count": 24,
   "id": "28caf244-b7fb-426c-9832-7c643874a3a5",
   "metadata": {},
   "outputs": [
    {
     "data": {
      "text/plain": [
       "'Tesla V100-SXM3-32GB'"
      ]
     },
     "execution_count": 24,
     "metadata": {},
     "output_type": "execute_result"
    }
   ],
   "source": [
    "torch.cuda.get_device_name()"
   ]
  },
  {
   "cell_type": "code",
   "execution_count": null,
   "id": "23779170-23fe-48f6-9267-2001f9270ae2",
   "metadata": {},
   "outputs": [],
   "source": []
  }
 ],
 "metadata": {
  "kernelspec": {
   "display_name": "Python 3 (ipykernel)",
   "language": "python",
   "name": "python3"
  },
  "language_info": {
   "codemirror_mode": {
    "name": "ipython",
    "version": 3
   },
   "file_extension": ".py",
   "mimetype": "text/x-python",
   "name": "python",
   "nbconvert_exporter": "python",
   "pygments_lexer": "ipython3",
   "version": "3.10.4"
  }
 },
 "nbformat": 4,
 "nbformat_minor": 5
}
