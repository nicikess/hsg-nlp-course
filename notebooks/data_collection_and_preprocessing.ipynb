{
  "cells": [
    {
      "cell_type": "markdown",
      "metadata": {
        "id": "view-in-github",
        "colab_type": "text"
      },
      "source": [
        "<a href=\"https://colab.research.google.com/github/nicikess/hsg-nlp-course/blob/main/notebooks/data_collection_and_preprocessing.ipynb\" target=\"_parent\"><img src=\"https://colab.research.google.com/assets/colab-badge.svg\" alt=\"Open In Colab\"/></a>"
      ]
    },
    {
      "cell_type": "markdown",
      "metadata": {
        "id": "ZAvFru0C2R36"
      },
      "source": [
        "# Semantic Code Search using Transformers and BERT - Part I \n",
        "Author - Shashank Ramesh"
      ]
    },
    {
      "cell_type": "markdown",
      "metadata": {
        "id": "EVnoEmxe2R3-"
      },
      "source": [
        "<b>Objective</b> - To summarize we would be building a search engine which would take input a search query, find a function from a large pool of source code which implements the functionality semantically matching what is being queried."
      ]
    },
    {
      "cell_type": "markdown",
      "metadata": {
        "id": "61sPDRPC2R3_"
      },
      "source": [
        "<img src=\"images/2.png\" />"
      ]
    },
    {
      "cell_type": "markdown",
      "metadata": {
        "id": "PrVywXwU2R3_"
      },
      "source": [
        "In Part-I of the series where we discuss on gathering the data for training our model and preprocessing the raw data to make it useful for our models to gather insights from."
      ]
    },
    {
      "cell_type": "markdown",
      "metadata": {
        "id": "MG0U5VhT2R3_"
      },
      "source": [
        "## Data Collection and Preprocessing\n",
        "This notebook contains steps to gather the data for training our model and preprocessing the raw data to make it useful for our models to gather insights from."
      ]
    },
    {
      "cell_type": "code",
      "execution_count": 2,
      "metadata": {
        "id": "LnsBz_Rr2R4A"
      },
      "outputs": [],
      "source": [
        "#importing libraries\n",
        "\n",
        "import ast\n",
        "import sqlite3\n",
        "\n",
        "import glob\n",
        "import re\n",
        "from pathlib import Path\n",
        "\n",
        "import astor\n",
        "import pandas as pd\n",
        "from nltk.tokenize import RegexpTokenizer\n",
        "from sklearn.model_selection import train_test_split"
      ]
    },
    {
      "cell_type": "code",
      "source": [
        "from google.colab import drive\n",
        "drive.mount('/content/drive')"
      ],
      "metadata": {
        "colab": {
          "base_uri": "https://localhost:8080/"
        },
        "id": "UlpnlDDD2jqe",
        "outputId": "0502013a-9ef7-4ae9-fcfe-fc6992056b57"
      },
      "execution_count": 3,
      "outputs": [
        {
          "output_type": "stream",
          "name": "stdout",
          "text": [
            "Drive already mounted at /content/drive; to attempt to forcibly remount, call drive.mount(\"/content/drive\", force_remount=True).\n"
          ]
        }
      ]
    },
    {
      "cell_type": "markdown",
      "metadata": {
        "id": "qdSx_xUn2R4B"
      },
      "source": [
        "### Collecting Data\n",
        "The data required for making our semantic search engine is large code bases which are made publicly available by GitHub on this [link](https://storage.googleapis.com/kubeflow-examplescode_search/raw_data/000000000000.csv). \n",
        "\n",
        "There are 10 such files which can be downloaded by changing the last digit to its successor in the [link](https://storage.googleapis.com/kubeflow-examplescode_search/raw_data/000000000000.csv). The data set contains code from repositories of diverse domains and can help in building a general purpose search engine.\n",
        "\n",
        "Once downloaded we get a corpus of data containing 12,41,664 files and we can use the below snippet to read all the files."
      ]
    },
    {
      "cell_type": "code",
      "execution_count": 5,
      "metadata": {
        "colab": {
          "base_uri": "https://localhost:8080/"
        },
        "id": "9pUfJT3M2R4C",
        "outputId": "e89d26c2-123d-474a-b8dc-1bd2901b5a50"
      },
      "outputs": [
        {
          "output_type": "stream",
          "name": "stdout",
          "text": [
            "CPU times: user 1min 12s, sys: 8.87 s, total: 1min 21s\n",
            "Wall time: 1min 38s\n"
          ]
        }
      ],
      "source": [
        "%%time\n",
        "# Read the data into a pandas dataframe, and parse out some meta-data\n",
        "path_data = '/content/drive/MyDrive/NLP/data/raw/'\n",
        "\n",
        "df_list = list()\n",
        "\n",
        "for i in range(10):\n",
        "  df = pd.read_csv(path_data + f'00000000000{i}.csv')\n",
        "  df['nwo'] = df['repo_path'].apply(lambda r: r.split()[0]) # Get the name of repository with the owner name\n",
        "  df['path'] = df['repo_path'].apply(lambda r: r.split()[1]) # Path to the code file in the repository\n",
        "  df.drop(columns=['repo_path'], inplace=True)\n",
        "  df = df[['nwo', 'path', 'content']]\n",
        "  df_list.append(df)"
      ]
    },
    {
      "cell_type": "code",
      "execution_count": 10,
      "metadata": {
        "colab": {
          "base_uri": "https://localhost:8080/",
          "height": 302
        },
        "id": "sY3tYohA2R4D",
        "outputId": "4c3877a3-5985-4016-86e1-9f52f51a834f"
      },
      "outputs": [
        {
          "output_type": "execute_result",
          "data": {
            "text/plain": [
              "                     nwo                                          path  \\\n",
              "0    bitsanity/rateboard                               krakenticker.py   \n",
              "1  rusty1s/embedded_gcnn                             lib/tf/convert.py   \n",
              "2          mackorone/mms                               util/ttf2png.py   \n",
              "3     nicksergeant/snipt                            accounts/models.py   \n",
              "4     huaxz1986/git_book  chapters/Model_Selection/validation_curve.py   \n",
              "\n",
              "                                             content  \n",
              "0  #!/usr/bin/python\\n# -*- coding: utf-8 -*-\\n\\n...  \n",
              "1  import numpy as np\\nimport tensorflow as tf\\n\\...  \n",
              "2  import os\\nimport sys\\nimport string\\n\\ndef en...  \n",
              "3  from annoying.functions import get_object_or_N...  \n",
              "4  # -*- coding: utf-8 -*-\\n\"\"\"\\n    模型选择\\n    ~~...  "
            ],
            "text/html": [
              "\n",
              "  <div id=\"df-c83785aa-41d7-42f6-bad8-8887c1b188d6\">\n",
              "    <div class=\"colab-df-container\">\n",
              "      <div>\n",
              "<style scoped>\n",
              "    .dataframe tbody tr th:only-of-type {\n",
              "        vertical-align: middle;\n",
              "    }\n",
              "\n",
              "    .dataframe tbody tr th {\n",
              "        vertical-align: top;\n",
              "    }\n",
              "\n",
              "    .dataframe thead th {\n",
              "        text-align: right;\n",
              "    }\n",
              "</style>\n",
              "<table border=\"1\" class=\"dataframe\">\n",
              "  <thead>\n",
              "    <tr style=\"text-align: right;\">\n",
              "      <th></th>\n",
              "      <th>nwo</th>\n",
              "      <th>path</th>\n",
              "      <th>content</th>\n",
              "    </tr>\n",
              "  </thead>\n",
              "  <tbody>\n",
              "    <tr>\n",
              "      <th>0</th>\n",
              "      <td>bitsanity/rateboard</td>\n",
              "      <td>krakenticker.py</td>\n",
              "      <td>#!/usr/bin/python\\n# -*- coding: utf-8 -*-\\n\\n...</td>\n",
              "    </tr>\n",
              "    <tr>\n",
              "      <th>1</th>\n",
              "      <td>rusty1s/embedded_gcnn</td>\n",
              "      <td>lib/tf/convert.py</td>\n",
              "      <td>import numpy as np\\nimport tensorflow as tf\\n\\...</td>\n",
              "    </tr>\n",
              "    <tr>\n",
              "      <th>2</th>\n",
              "      <td>mackorone/mms</td>\n",
              "      <td>util/ttf2png.py</td>\n",
              "      <td>import os\\nimport sys\\nimport string\\n\\ndef en...</td>\n",
              "    </tr>\n",
              "    <tr>\n",
              "      <th>3</th>\n",
              "      <td>nicksergeant/snipt</td>\n",
              "      <td>accounts/models.py</td>\n",
              "      <td>from annoying.functions import get_object_or_N...</td>\n",
              "    </tr>\n",
              "    <tr>\n",
              "      <th>4</th>\n",
              "      <td>huaxz1986/git_book</td>\n",
              "      <td>chapters/Model_Selection/validation_curve.py</td>\n",
              "      <td># -*- coding: utf-8 -*-\\n\"\"\"\\n    模型选择\\n    ~~...</td>\n",
              "    </tr>\n",
              "  </tbody>\n",
              "</table>\n",
              "</div>\n",
              "      <button class=\"colab-df-convert\" onclick=\"convertToInteractive('df-c83785aa-41d7-42f6-bad8-8887c1b188d6')\"\n",
              "              title=\"Convert this dataframe to an interactive table.\"\n",
              "              style=\"display:none;\">\n",
              "        \n",
              "  <svg xmlns=\"http://www.w3.org/2000/svg\" height=\"24px\"viewBox=\"0 0 24 24\"\n",
              "       width=\"24px\">\n",
              "    <path d=\"M0 0h24v24H0V0z\" fill=\"none\"/>\n",
              "    <path d=\"M18.56 5.44l.94 2.06.94-2.06 2.06-.94-2.06-.94-.94-2.06-.94 2.06-2.06.94zm-11 1L8.5 8.5l.94-2.06 2.06-.94-2.06-.94L8.5 2.5l-.94 2.06-2.06.94zm10 10l.94 2.06.94-2.06 2.06-.94-2.06-.94-.94-2.06-.94 2.06-2.06.94z\"/><path d=\"M17.41 7.96l-1.37-1.37c-.4-.4-.92-.59-1.43-.59-.52 0-1.04.2-1.43.59L10.3 9.45l-7.72 7.72c-.78.78-.78 2.05 0 2.83L4 21.41c.39.39.9.59 1.41.59.51 0 1.02-.2 1.41-.59l7.78-7.78 2.81-2.81c.8-.78.8-2.07 0-2.86zM5.41 20L4 18.59l7.72-7.72 1.47 1.35L5.41 20z\"/>\n",
              "  </svg>\n",
              "      </button>\n",
              "      \n",
              "  <style>\n",
              "    .colab-df-container {\n",
              "      display:flex;\n",
              "      flex-wrap:wrap;\n",
              "      gap: 12px;\n",
              "    }\n",
              "\n",
              "    .colab-df-convert {\n",
              "      background-color: #E8F0FE;\n",
              "      border: none;\n",
              "      border-radius: 50%;\n",
              "      cursor: pointer;\n",
              "      display: none;\n",
              "      fill: #1967D2;\n",
              "      height: 32px;\n",
              "      padding: 0 0 0 0;\n",
              "      width: 32px;\n",
              "    }\n",
              "\n",
              "    .colab-df-convert:hover {\n",
              "      background-color: #E2EBFA;\n",
              "      box-shadow: 0px 1px 2px rgba(60, 64, 67, 0.3), 0px 1px 3px 1px rgba(60, 64, 67, 0.15);\n",
              "      fill: #174EA6;\n",
              "    }\n",
              "\n",
              "    [theme=dark] .colab-df-convert {\n",
              "      background-color: #3B4455;\n",
              "      fill: #D2E3FC;\n",
              "    }\n",
              "\n",
              "    [theme=dark] .colab-df-convert:hover {\n",
              "      background-color: #434B5C;\n",
              "      box-shadow: 0px 1px 3px 1px rgba(0, 0, 0, 0.15);\n",
              "      filter: drop-shadow(0px 1px 2px rgba(0, 0, 0, 0.3));\n",
              "      fill: #FFFFFF;\n",
              "    }\n",
              "  </style>\n",
              "\n",
              "      <script>\n",
              "        const buttonEl =\n",
              "          document.querySelector('#df-c83785aa-41d7-42f6-bad8-8887c1b188d6 button.colab-df-convert');\n",
              "        buttonEl.style.display =\n",
              "          google.colab.kernel.accessAllowed ? 'block' : 'none';\n",
              "\n",
              "        async function convertToInteractive(key) {\n",
              "          const element = document.querySelector('#df-c83785aa-41d7-42f6-bad8-8887c1b188d6');\n",
              "          const dataTable =\n",
              "            await google.colab.kernel.invokeFunction('convertToInteractive',\n",
              "                                                     [key], {});\n",
              "          if (!dataTable) return;\n",
              "\n",
              "          const docLinkHtml = 'Like what you see? Visit the ' +\n",
              "            '<a target=\"_blank\" href=https://colab.research.google.com/notebooks/data_table.ipynb>data table notebook</a>'\n",
              "            + ' to learn more about interactive tables.';\n",
              "          element.innerHTML = '';\n",
              "          dataTable['output_type'] = 'display_data';\n",
              "          await google.colab.output.renderOutput(dataTable, element);\n",
              "          const docLink = document.createElement('div');\n",
              "          docLink.innerHTML = docLinkHtml;\n",
              "          element.appendChild(docLink);\n",
              "        }\n",
              "      </script>\n",
              "    </div>\n",
              "  </div>\n",
              "  "
            ]
          },
          "metadata": {},
          "execution_count": 10
        }
      ],
      "source": [
        "df.head()"
      ]
    },
    {
      "cell_type": "code",
      "execution_count": 11,
      "metadata": {
        "colab": {
          "base_uri": "https://localhost:8080/"
        },
        "id": "tqp6NzQd2R4E",
        "outputId": "653574b2-b6b6-4753-fdaf-c1090308bcf6"
      },
      "outputs": [
        {
          "output_type": "execute_result",
          "data": {
            "text/plain": [
              "(123998, 3)"
            ]
          },
          "metadata": {},
          "execution_count": 11
        }
      ],
      "source": [
        "# Inspect shape of the raw data\n",
        "df.shape"
      ]
    },
    {
      "cell_type": "markdown",
      "metadata": {
        "id": "XLi9BmgB2R4E"
      },
      "source": [
        "### Extracting (Function,Docstring) Pairs \n",
        "\n",
        "Our goal is to parse the python files into (function, docstring) pairs. \n",
        "\n",
        "For this task we will be using the AST library which just as python compilers converts the source code into an abstract syntax tree for analysis. It identifies all different components in the source code and helps us extract them for processing. \n",
        "\n",
        "We are interested in extracting the function definitions along with its corresponding docstring removing other information like comments, decorators and function signatures. After we extract the function definition and its docstring we tokenize each of them to remove punctuation, decorators and convert all the tokens to lower case."
      ]
    },
    {
      "cell_type": "code",
      "execution_count": 6,
      "metadata": {
        "id": "rugidVVp2R4F"
      },
      "outputs": [],
      "source": [
        "def tokenize_docstring(text):\n",
        "    \"\"\"Gets filetered docstring tokens which help describe the function\"\"\"\n",
        "    \n",
        "    # Remove decorators and other parameter signatures in the docstring\n",
        "    before_keyword, keyword, after_keyword = text.partition(':')\n",
        "    before_keyword, keyword, after_keyword = before_keyword.partition('@param')\n",
        "    before_keyword, keyword, after_keyword = before_keyword.partition('param')\n",
        "    before_keyword, keyword, after_keyword = before_keyword.partition('@brief')\n",
        "    \n",
        "    if(after_keyword):    \n",
        "        words = RegexpTokenizer(r'[a-zA-Z0-9]+').tokenize(after_keyword)\n",
        "    else:\n",
        "        before_keyword, keyword, after_keyword = before_keyword.partition('@')\n",
        "        words = RegexpTokenizer(r'[a-zA-Z0-9]+').tokenize(before_keyword)\n",
        "        \n",
        "    # Convert all docstrings to lowercase\n",
        "    new_words= [word.lower() for word in words if word.isalnum()]\n",
        "    \n",
        "    return new_words\n",
        "\n",
        "\n",
        "def tokenize_code(text):\n",
        "    \"\"\"Gets filetered fucntion tokens\"\"\"\n",
        "    \n",
        "    # Remove decorators and function signatures till the def token\n",
        "    keyword = 'def '\n",
        "    before_keyword, keyword, after_keyword = text.partition(keyword)\n",
        "    words = RegexpTokenizer(r'[a-zA-Z0-9]+').tokenize(after_keyword)\n",
        "    \n",
        "    # Convert function tokens to lowercase and remove single alphabet variables\n",
        "    new_words= [word.lower() for word in words if (word.isalpha() and len(word)>1) or (word.isnumeric())]\n",
        "    return new_words\n",
        "\n",
        "\n",
        "def get_function_docstring_pairs(blob):\n",
        "    \"Extracts (function/method, docstring) pairs from a given code blob.\"\n",
        "    \n",
        "    pairs = []\n",
        "    try:\n",
        "        module = ast.parse(blob) # Converts the python code into an abstract syntx tree\n",
        "        classes = [node for node in module.body if isinstance(node, ast.ClassDef)] # Retrieves classes from source code\n",
        "        functions = [node for node in module.body if isinstance(node, ast.FunctionDef)] # Retrieves functions from the source code\n",
        "        for _class in classes:\n",
        "            functions.extend([node for node in _class.body if isinstance(node, ast.FunctionDef)]) # Retrieves functions from the classes extracted\n",
        "\n",
        "        for f in functions:\n",
        "            source = astor.to_source(f) # Convert the functions extracted into ast format so as to remove comments\n",
        "            docstring = ast.get_docstring(f) if ast.get_docstring(f) else '' # Get docstring from fucntion definition if present\n",
        "            function = source.replace(ast.get_docstring(f, clean=False), '') if docstring else source # function definition without any comments\n",
        "            \n",
        "            # Extracts function name, line number of the function in the source code, original function, function tokens and docstring tokens \n",
        "            pairs.append((f.name,         \n",
        "                          f.lineno,\n",
        "                          source,\n",
        "                          ' '.join(tokenize_code(function)),\n",
        "                          ' '.join(tokenize_docstring(docstring.split('\\n\\n')[0]))\n",
        "                         ))\n",
        "    except (AssertionError, MemoryError, SyntaxError, UnicodeEncodeError):\n",
        "        pass\n",
        "    return pairs\n",
        "\n",
        "\n",
        "def get_function_docstring_pairs_list(blob_list):\n",
        "    \"\"\"apply the function `get_function_docstring_pairs` on a list of blobs\"\"\"\n",
        "    return [get_function_docstring_pairs(b) for b in blob_list]"
      ]
    },
    {
      "cell_type": "markdown",
      "metadata": {
        "id": "YP-oCnRY2R4E"
      },
      "source": [
        "<img src=\"images/1.png\" />"
      ]
    },
    {
      "cell_type": "code",
      "execution_count": 13,
      "metadata": {
        "id": "iQ_7nYa92R4F"
      },
      "outputs": [],
      "source": [
        "x = df.content.tolist()"
      ]
    },
    {
      "cell_type": "code",
      "execution_count": 10,
      "metadata": {
        "scrolled": true,
        "id": "2i3mfFGi2R4G"
      },
      "outputs": [],
      "source": [
        "func_doc_list = list()\n",
        "\n",
        "for i in range(2):\n",
        "  func_doc_list.append(get_function_docstring_pairs_list(df_list[i].content.tolist()))"
      ]
    },
    {
      "cell_type": "code",
      "source": [
        "df = pd.concat(func_doc_list, axis=0, ignore_index=True)"
      ],
      "metadata": {
        "colab": {
          "base_uri": "https://localhost:8080/",
          "height": 363
        },
        "id": "uvrabv4xsMeW",
        "outputId": "daa60752-1232-4bc0-a659-a5e205dc6f32"
      },
      "execution_count": 16,
      "outputs": [
        {
          "output_type": "error",
          "ename": "TypeError",
          "evalue": "ignored",
          "traceback": [
            "\u001b[0;31m---------------------------------------------------------------------------\u001b[0m",
            "\u001b[0;31mTypeError\u001b[0m                                 Traceback (most recent call last)",
            "\u001b[0;32m<ipython-input-16-e818965a6d58>\u001b[0m in \u001b[0;36m<module>\u001b[0;34m()\u001b[0m\n\u001b[0;32m----> 1\u001b[0;31m \u001b[0mdf\u001b[0m \u001b[0;34m=\u001b[0m \u001b[0mpd\u001b[0m\u001b[0;34m.\u001b[0m\u001b[0mconcat\u001b[0m\u001b[0;34m(\u001b[0m\u001b[0mfunc_doc_list\u001b[0m\u001b[0;34m,\u001b[0m \u001b[0maxis\u001b[0m\u001b[0;34m=\u001b[0m\u001b[0;36m0\u001b[0m\u001b[0;34m,\u001b[0m \u001b[0mignore_index\u001b[0m\u001b[0;34m=\u001b[0m\u001b[0;32mTrue\u001b[0m\u001b[0;34m)\u001b[0m\u001b[0;34m\u001b[0m\u001b[0;34m\u001b[0m\u001b[0m\n\u001b[0m",
            "\u001b[0;32m/usr/local/lib/python3.7/dist-packages/pandas/util/_decorators.py\u001b[0m in \u001b[0;36mwrapper\u001b[0;34m(*args, **kwargs)\u001b[0m\n\u001b[1;32m    309\u001b[0m                     \u001b[0mstacklevel\u001b[0m\u001b[0;34m=\u001b[0m\u001b[0mstacklevel\u001b[0m\u001b[0;34m,\u001b[0m\u001b[0;34m\u001b[0m\u001b[0;34m\u001b[0m\u001b[0m\n\u001b[1;32m    310\u001b[0m                 )\n\u001b[0;32m--> 311\u001b[0;31m             \u001b[0;32mreturn\u001b[0m \u001b[0mfunc\u001b[0m\u001b[0;34m(\u001b[0m\u001b[0;34m*\u001b[0m\u001b[0margs\u001b[0m\u001b[0;34m,\u001b[0m \u001b[0;34m**\u001b[0m\u001b[0mkwargs\u001b[0m\u001b[0;34m)\u001b[0m\u001b[0;34m\u001b[0m\u001b[0;34m\u001b[0m\u001b[0m\n\u001b[0m\u001b[1;32m    312\u001b[0m \u001b[0;34m\u001b[0m\u001b[0m\n\u001b[1;32m    313\u001b[0m         \u001b[0;32mreturn\u001b[0m \u001b[0mwrapper\u001b[0m\u001b[0;34m\u001b[0m\u001b[0;34m\u001b[0m\u001b[0m\n",
            "\u001b[0;32m/usr/local/lib/python3.7/dist-packages/pandas/core/reshape/concat.py\u001b[0m in \u001b[0;36mconcat\u001b[0;34m(objs, axis, join, ignore_index, keys, levels, names, verify_integrity, sort, copy)\u001b[0m\n\u001b[1;32m    302\u001b[0m         \u001b[0mverify_integrity\u001b[0m\u001b[0;34m=\u001b[0m\u001b[0mverify_integrity\u001b[0m\u001b[0;34m,\u001b[0m\u001b[0;34m\u001b[0m\u001b[0;34m\u001b[0m\u001b[0m\n\u001b[1;32m    303\u001b[0m         \u001b[0mcopy\u001b[0m\u001b[0;34m=\u001b[0m\u001b[0mcopy\u001b[0m\u001b[0;34m,\u001b[0m\u001b[0;34m\u001b[0m\u001b[0;34m\u001b[0m\u001b[0m\n\u001b[0;32m--> 304\u001b[0;31m         \u001b[0msort\u001b[0m\u001b[0;34m=\u001b[0m\u001b[0msort\u001b[0m\u001b[0;34m,\u001b[0m\u001b[0;34m\u001b[0m\u001b[0;34m\u001b[0m\u001b[0m\n\u001b[0m\u001b[1;32m    305\u001b[0m     )\n\u001b[1;32m    306\u001b[0m \u001b[0;34m\u001b[0m\u001b[0m\n",
            "\u001b[0;32m/usr/local/lib/python3.7/dist-packages/pandas/core/reshape/concat.py\u001b[0m in \u001b[0;36m__init__\u001b[0;34m(self, objs, axis, join, keys, levels, names, ignore_index, verify_integrity, copy, sort)\u001b[0m\n\u001b[1;32m    382\u001b[0m                     \u001b[0;34m\"only Series and DataFrame objs are valid\"\u001b[0m\u001b[0;34m\u001b[0m\u001b[0;34m\u001b[0m\u001b[0m\n\u001b[1;32m    383\u001b[0m                 )\n\u001b[0;32m--> 384\u001b[0;31m                 \u001b[0;32mraise\u001b[0m \u001b[0mTypeError\u001b[0m\u001b[0;34m(\u001b[0m\u001b[0mmsg\u001b[0m\u001b[0;34m)\u001b[0m\u001b[0;34m\u001b[0m\u001b[0;34m\u001b[0m\u001b[0m\n\u001b[0m\u001b[1;32m    385\u001b[0m \u001b[0;34m\u001b[0m\u001b[0m\n\u001b[1;32m    386\u001b[0m             \u001b[0mndims\u001b[0m\u001b[0;34m.\u001b[0m\u001b[0madd\u001b[0m\u001b[0;34m(\u001b[0m\u001b[0mobj\u001b[0m\u001b[0;34m.\u001b[0m\u001b[0mndim\u001b[0m\u001b[0;34m)\u001b[0m\u001b[0;34m\u001b[0m\u001b[0;34m\u001b[0m\u001b[0m\n",
            "\u001b[0;31mTypeError\u001b[0m: cannot concatenate object of type '<class 'list'>'; only Series and DataFrame objs are valid"
          ]
        }
      ]
    },
    {
      "cell_type": "code",
      "execution_count": 15,
      "metadata": {
        "colab": {
          "base_uri": "https://localhost:8080/"
        },
        "id": "ttqlk3702R4G",
        "outputId": "4f4fa630-efcc-4bd9-880c-d0803c13360f"
      },
      "outputs": [
        {
          "output_type": "execute_result",
          "data": {
            "text/plain": [
              "123998"
            ]
          },
          "metadata": {},
          "execution_count": 15
        }
      ],
      "source": [
        "len(func_doc) "
      ]
    },
    {
      "cell_type": "code",
      "execution_count": 16,
      "metadata": {
        "colab": {
          "base_uri": "https://localhost:8080/",
          "height": 441
        },
        "id": "vo6cNSP52R4G",
        "outputId": "132d2e02-47d5-4e9d-bda6-2e3eafa738f3"
      },
      "outputs": [
        {
          "output_type": "execute_result",
          "data": {
            "text/plain": [
              "                     nwo                                          path  \\\n",
              "0    bitsanity/rateboard                               krakenticker.py   \n",
              "1  rusty1s/embedded_gcnn                             lib/tf/convert.py   \n",
              "2          mackorone/mms                               util/ttf2png.py   \n",
              "3     nicksergeant/snipt                            accounts/models.py   \n",
              "4     huaxz1986/git_book  chapters/Model_Selection/validation_curve.py   \n",
              "\n",
              "                                             content  \\\n",
              "0  #!/usr/bin/python\\n# -*- coding: utf-8 -*-\\n\\n...   \n",
              "1  import numpy as np\\nimport tensorflow as tf\\n\\...   \n",
              "2  import os\\nimport sys\\nimport string\\n\\ndef en...   \n",
              "3  from annoying.functions import get_object_or_N...   \n",
              "4  # -*- coding: utf-8 -*-\\n\"\"\"\\n    模型选择\\n    ~~...   \n",
              "\n",
              "                                               pairs  \n",
              "0                                                 []  \n",
              "1  [(sparse_to_tensor, 5, def sparse_to_tensor(va...  \n",
              "2  [(end_of_path_index, 5, def end_of_path_index(...  \n",
              "3  [(get_blog_posts, 84, def get_blog_posts(self)...  \n",
              "4  [(test_validation_curve, 17, def test_validati...  "
            ],
            "text/html": [
              "\n",
              "  <div id=\"df-892ff961-e062-42a3-98c2-0f8f07367a3b\">\n",
              "    <div class=\"colab-df-container\">\n",
              "      <div>\n",
              "<style scoped>\n",
              "    .dataframe tbody tr th:only-of-type {\n",
              "        vertical-align: middle;\n",
              "    }\n",
              "\n",
              "    .dataframe tbody tr th {\n",
              "        vertical-align: top;\n",
              "    }\n",
              "\n",
              "    .dataframe thead th {\n",
              "        text-align: right;\n",
              "    }\n",
              "</style>\n",
              "<table border=\"1\" class=\"dataframe\">\n",
              "  <thead>\n",
              "    <tr style=\"text-align: right;\">\n",
              "      <th></th>\n",
              "      <th>nwo</th>\n",
              "      <th>path</th>\n",
              "      <th>content</th>\n",
              "      <th>pairs</th>\n",
              "    </tr>\n",
              "  </thead>\n",
              "  <tbody>\n",
              "    <tr>\n",
              "      <th>0</th>\n",
              "      <td>bitsanity/rateboard</td>\n",
              "      <td>krakenticker.py</td>\n",
              "      <td>#!/usr/bin/python\\n# -*- coding: utf-8 -*-\\n\\n...</td>\n",
              "      <td>[]</td>\n",
              "    </tr>\n",
              "    <tr>\n",
              "      <th>1</th>\n",
              "      <td>rusty1s/embedded_gcnn</td>\n",
              "      <td>lib/tf/convert.py</td>\n",
              "      <td>import numpy as np\\nimport tensorflow as tf\\n\\...</td>\n",
              "      <td>[(sparse_to_tensor, 5, def sparse_to_tensor(va...</td>\n",
              "    </tr>\n",
              "    <tr>\n",
              "      <th>2</th>\n",
              "      <td>mackorone/mms</td>\n",
              "      <td>util/ttf2png.py</td>\n",
              "      <td>import os\\nimport sys\\nimport string\\n\\ndef en...</td>\n",
              "      <td>[(end_of_path_index, 5, def end_of_path_index(...</td>\n",
              "    </tr>\n",
              "    <tr>\n",
              "      <th>3</th>\n",
              "      <td>nicksergeant/snipt</td>\n",
              "      <td>accounts/models.py</td>\n",
              "      <td>from annoying.functions import get_object_or_N...</td>\n",
              "      <td>[(get_blog_posts, 84, def get_blog_posts(self)...</td>\n",
              "    </tr>\n",
              "    <tr>\n",
              "      <th>4</th>\n",
              "      <td>huaxz1986/git_book</td>\n",
              "      <td>chapters/Model_Selection/validation_curve.py</td>\n",
              "      <td># -*- coding: utf-8 -*-\\n\"\"\"\\n    模型选择\\n    ~~...</td>\n",
              "      <td>[(test_validation_curve, 17, def test_validati...</td>\n",
              "    </tr>\n",
              "  </tbody>\n",
              "</table>\n",
              "</div>\n",
              "      <button class=\"colab-df-convert\" onclick=\"convertToInteractive('df-892ff961-e062-42a3-98c2-0f8f07367a3b')\"\n",
              "              title=\"Convert this dataframe to an interactive table.\"\n",
              "              style=\"display:none;\">\n",
              "        \n",
              "  <svg xmlns=\"http://www.w3.org/2000/svg\" height=\"24px\"viewBox=\"0 0 24 24\"\n",
              "       width=\"24px\">\n",
              "    <path d=\"M0 0h24v24H0V0z\" fill=\"none\"/>\n",
              "    <path d=\"M18.56 5.44l.94 2.06.94-2.06 2.06-.94-2.06-.94-.94-2.06-.94 2.06-2.06.94zm-11 1L8.5 8.5l.94-2.06 2.06-.94-2.06-.94L8.5 2.5l-.94 2.06-2.06.94zm10 10l.94 2.06.94-2.06 2.06-.94-2.06-.94-.94-2.06-.94 2.06-2.06.94z\"/><path d=\"M17.41 7.96l-1.37-1.37c-.4-.4-.92-.59-1.43-.59-.52 0-1.04.2-1.43.59L10.3 9.45l-7.72 7.72c-.78.78-.78 2.05 0 2.83L4 21.41c.39.39.9.59 1.41.59.51 0 1.02-.2 1.41-.59l7.78-7.78 2.81-2.81c.8-.78.8-2.07 0-2.86zM5.41 20L4 18.59l7.72-7.72 1.47 1.35L5.41 20z\"/>\n",
              "  </svg>\n",
              "      </button>\n",
              "      \n",
              "  <style>\n",
              "    .colab-df-container {\n",
              "      display:flex;\n",
              "      flex-wrap:wrap;\n",
              "      gap: 12px;\n",
              "    }\n",
              "\n",
              "    .colab-df-convert {\n",
              "      background-color: #E8F0FE;\n",
              "      border: none;\n",
              "      border-radius: 50%;\n",
              "      cursor: pointer;\n",
              "      display: none;\n",
              "      fill: #1967D2;\n",
              "      height: 32px;\n",
              "      padding: 0 0 0 0;\n",
              "      width: 32px;\n",
              "    }\n",
              "\n",
              "    .colab-df-convert:hover {\n",
              "      background-color: #E2EBFA;\n",
              "      box-shadow: 0px 1px 2px rgba(60, 64, 67, 0.3), 0px 1px 3px 1px rgba(60, 64, 67, 0.15);\n",
              "      fill: #174EA6;\n",
              "    }\n",
              "\n",
              "    [theme=dark] .colab-df-convert {\n",
              "      background-color: #3B4455;\n",
              "      fill: #D2E3FC;\n",
              "    }\n",
              "\n",
              "    [theme=dark] .colab-df-convert:hover {\n",
              "      background-color: #434B5C;\n",
              "      box-shadow: 0px 1px 3px 1px rgba(0, 0, 0, 0.15);\n",
              "      filter: drop-shadow(0px 1px 2px rgba(0, 0, 0, 0.3));\n",
              "      fill: #FFFFFF;\n",
              "    }\n",
              "  </style>\n",
              "\n",
              "      <script>\n",
              "        const buttonEl =\n",
              "          document.querySelector('#df-892ff961-e062-42a3-98c2-0f8f07367a3b button.colab-df-convert');\n",
              "        buttonEl.style.display =\n",
              "          google.colab.kernel.accessAllowed ? 'block' : 'none';\n",
              "\n",
              "        async function convertToInteractive(key) {\n",
              "          const element = document.querySelector('#df-892ff961-e062-42a3-98c2-0f8f07367a3b');\n",
              "          const dataTable =\n",
              "            await google.colab.kernel.invokeFunction('convertToInteractive',\n",
              "                                                     [key], {});\n",
              "          if (!dataTable) return;\n",
              "\n",
              "          const docLinkHtml = 'Like what you see? Visit the ' +\n",
              "            '<a target=\"_blank\" href=https://colab.research.google.com/notebooks/data_table.ipynb>data table notebook</a>'\n",
              "            + ' to learn more about interactive tables.';\n",
              "          element.innerHTML = '';\n",
              "          dataTable['output_type'] = 'display_data';\n",
              "          await google.colab.output.renderOutput(dataTable, element);\n",
              "          const docLink = document.createElement('div');\n",
              "          docLink.innerHTML = docLinkHtml;\n",
              "          element.appendChild(docLink);\n",
              "        }\n",
              "      </script>\n",
              "    </div>\n",
              "  </div>\n",
              "  "
            ]
          },
          "metadata": {},
          "execution_count": 16
        }
      ],
      "source": [
        "# The dataset containing a the name of the directory, its path, source code, and all the functions in a list extracted from the source code\n",
        "df['pairs'] = func_doc\n",
        "df.head()"
      ]
    },
    {
      "cell_type": "markdown",
      "metadata": {
        "id": "g8hjZ2EL2R4H"
      },
      "source": [
        "### Preparing the dataset\n",
        "Once we have extracted our function-docstring pairs and their tokens which are free from decorators and other unwanted elements,we stack our findings in a data-frame with every row containing details about a function and its corresponding docstring."
      ]
    },
    {
      "cell_type": "code",
      "execution_count": 17,
      "metadata": {
        "colab": {
          "base_uri": "https://localhost:8080/"
        },
        "id": "d0pdgD9e2R4H",
        "outputId": "d7953ef5-36d5-4e97-961f-c3f28eff283b"
      },
      "outputs": [
        {
          "output_type": "stream",
          "name": "stdout",
          "text": [
            "CPU times: user 48.8 s, sys: 2.53 s, total: 51.3 s\n",
            "Wall time: 49.5 s\n"
          ]
        }
      ],
      "source": [
        "%%time\n",
        "# flatten pairs\n",
        "df = df.set_index(['nwo', 'path'])['pairs'].apply(pd.Series).stack()\n",
        "df = df.reset_index()\n",
        "df.columns = ['nwo', 'path', '_', 'pair']"
      ]
    },
    {
      "cell_type": "code",
      "execution_count": 18,
      "metadata": {
        "colab": {
          "base_uri": "https://localhost:8080/",
          "height": 0
        },
        "id": "iDPHeozY2R4H",
        "outputId": "9f8e7adc-eb13-410a-f6ed-8e5ef66c0471"
      },
      "outputs": [
        {
          "output_type": "execute_result",
          "data": {
            "text/plain": [
              "                     nwo               path  _  \\\n",
              "0  rusty1s/embedded_gcnn  lib/tf/convert.py  0   \n",
              "1          mackorone/mms    util/ttf2png.py  0   \n",
              "2          mackorone/mms    util/ttf2png.py  1   \n",
              "3          mackorone/mms    util/ttf2png.py  2   \n",
              "4          mackorone/mms    util/ttf2png.py  3   \n",
              "\n",
              "                                                pair  \n",
              "0  (sparse_to_tensor, 5, def sparse_to_tensor(val...  \n",
              "1  (end_of_path_index, 5, def end_of_path_index(f...  \n",
              "2  (get_path, 8, def get_path(full_path):\\n    re...  \n",
              "3  (get_name, 11, def get_name(full_path):\\n    r...  \n",
              "4  (ttf2png, 14, def ttf2png(chars_path, font_pat...  "
            ],
            "text/html": [
              "\n",
              "  <div id=\"df-7335c164-7a81-4f43-a9b7-de9f1a71bd93\">\n",
              "    <div class=\"colab-df-container\">\n",
              "      <div>\n",
              "<style scoped>\n",
              "    .dataframe tbody tr th:only-of-type {\n",
              "        vertical-align: middle;\n",
              "    }\n",
              "\n",
              "    .dataframe tbody tr th {\n",
              "        vertical-align: top;\n",
              "    }\n",
              "\n",
              "    .dataframe thead th {\n",
              "        text-align: right;\n",
              "    }\n",
              "</style>\n",
              "<table border=\"1\" class=\"dataframe\">\n",
              "  <thead>\n",
              "    <tr style=\"text-align: right;\">\n",
              "      <th></th>\n",
              "      <th>nwo</th>\n",
              "      <th>path</th>\n",
              "      <th>_</th>\n",
              "      <th>pair</th>\n",
              "    </tr>\n",
              "  </thead>\n",
              "  <tbody>\n",
              "    <tr>\n",
              "      <th>0</th>\n",
              "      <td>rusty1s/embedded_gcnn</td>\n",
              "      <td>lib/tf/convert.py</td>\n",
              "      <td>0</td>\n",
              "      <td>(sparse_to_tensor, 5, def sparse_to_tensor(val...</td>\n",
              "    </tr>\n",
              "    <tr>\n",
              "      <th>1</th>\n",
              "      <td>mackorone/mms</td>\n",
              "      <td>util/ttf2png.py</td>\n",
              "      <td>0</td>\n",
              "      <td>(end_of_path_index, 5, def end_of_path_index(f...</td>\n",
              "    </tr>\n",
              "    <tr>\n",
              "      <th>2</th>\n",
              "      <td>mackorone/mms</td>\n",
              "      <td>util/ttf2png.py</td>\n",
              "      <td>1</td>\n",
              "      <td>(get_path, 8, def get_path(full_path):\\n    re...</td>\n",
              "    </tr>\n",
              "    <tr>\n",
              "      <th>3</th>\n",
              "      <td>mackorone/mms</td>\n",
              "      <td>util/ttf2png.py</td>\n",
              "      <td>2</td>\n",
              "      <td>(get_name, 11, def get_name(full_path):\\n    r...</td>\n",
              "    </tr>\n",
              "    <tr>\n",
              "      <th>4</th>\n",
              "      <td>mackorone/mms</td>\n",
              "      <td>util/ttf2png.py</td>\n",
              "      <td>3</td>\n",
              "      <td>(ttf2png, 14, def ttf2png(chars_path, font_pat...</td>\n",
              "    </tr>\n",
              "  </tbody>\n",
              "</table>\n",
              "</div>\n",
              "      <button class=\"colab-df-convert\" onclick=\"convertToInteractive('df-7335c164-7a81-4f43-a9b7-de9f1a71bd93')\"\n",
              "              title=\"Convert this dataframe to an interactive table.\"\n",
              "              style=\"display:none;\">\n",
              "        \n",
              "  <svg xmlns=\"http://www.w3.org/2000/svg\" height=\"24px\"viewBox=\"0 0 24 24\"\n",
              "       width=\"24px\">\n",
              "    <path d=\"M0 0h24v24H0V0z\" fill=\"none\"/>\n",
              "    <path d=\"M18.56 5.44l.94 2.06.94-2.06 2.06-.94-2.06-.94-.94-2.06-.94 2.06-2.06.94zm-11 1L8.5 8.5l.94-2.06 2.06-.94-2.06-.94L8.5 2.5l-.94 2.06-2.06.94zm10 10l.94 2.06.94-2.06 2.06-.94-2.06-.94-.94-2.06-.94 2.06-2.06.94z\"/><path d=\"M17.41 7.96l-1.37-1.37c-.4-.4-.92-.59-1.43-.59-.52 0-1.04.2-1.43.59L10.3 9.45l-7.72 7.72c-.78.78-.78 2.05 0 2.83L4 21.41c.39.39.9.59 1.41.59.51 0 1.02-.2 1.41-.59l7.78-7.78 2.81-2.81c.8-.78.8-2.07 0-2.86zM5.41 20L4 18.59l7.72-7.72 1.47 1.35L5.41 20z\"/>\n",
              "  </svg>\n",
              "      </button>\n",
              "      \n",
              "  <style>\n",
              "    .colab-df-container {\n",
              "      display:flex;\n",
              "      flex-wrap:wrap;\n",
              "      gap: 12px;\n",
              "    }\n",
              "\n",
              "    .colab-df-convert {\n",
              "      background-color: #E8F0FE;\n",
              "      border: none;\n",
              "      border-radius: 50%;\n",
              "      cursor: pointer;\n",
              "      display: none;\n",
              "      fill: #1967D2;\n",
              "      height: 32px;\n",
              "      padding: 0 0 0 0;\n",
              "      width: 32px;\n",
              "    }\n",
              "\n",
              "    .colab-df-convert:hover {\n",
              "      background-color: #E2EBFA;\n",
              "      box-shadow: 0px 1px 2px rgba(60, 64, 67, 0.3), 0px 1px 3px 1px rgba(60, 64, 67, 0.15);\n",
              "      fill: #174EA6;\n",
              "    }\n",
              "\n",
              "    [theme=dark] .colab-df-convert {\n",
              "      background-color: #3B4455;\n",
              "      fill: #D2E3FC;\n",
              "    }\n",
              "\n",
              "    [theme=dark] .colab-df-convert:hover {\n",
              "      background-color: #434B5C;\n",
              "      box-shadow: 0px 1px 3px 1px rgba(0, 0, 0, 0.15);\n",
              "      filter: drop-shadow(0px 1px 2px rgba(0, 0, 0, 0.3));\n",
              "      fill: #FFFFFF;\n",
              "    }\n",
              "  </style>\n",
              "\n",
              "      <script>\n",
              "        const buttonEl =\n",
              "          document.querySelector('#df-7335c164-7a81-4f43-a9b7-de9f1a71bd93 button.colab-df-convert');\n",
              "        buttonEl.style.display =\n",
              "          google.colab.kernel.accessAllowed ? 'block' : 'none';\n",
              "\n",
              "        async function convertToInteractive(key) {\n",
              "          const element = document.querySelector('#df-7335c164-7a81-4f43-a9b7-de9f1a71bd93');\n",
              "          const dataTable =\n",
              "            await google.colab.kernel.invokeFunction('convertToInteractive',\n",
              "                                                     [key], {});\n",
              "          if (!dataTable) return;\n",
              "\n",
              "          const docLinkHtml = 'Like what you see? Visit the ' +\n",
              "            '<a target=\"_blank\" href=https://colab.research.google.com/notebooks/data_table.ipynb>data table notebook</a>'\n",
              "            + ' to learn more about interactive tables.';\n",
              "          element.innerHTML = '';\n",
              "          dataTable['output_type'] = 'display_data';\n",
              "          await google.colab.output.renderOutput(dataTable, element);\n",
              "          const docLink = document.createElement('div');\n",
              "          docLink.innerHTML = docLinkHtml;\n",
              "          element.appendChild(docLink);\n",
              "        }\n",
              "      </script>\n",
              "    </div>\n",
              "  </div>\n",
              "  "
            ]
          },
          "metadata": {},
          "execution_count": 18
        }
      ],
      "source": [
        "df.head()"
      ]
    },
    {
      "cell_type": "code",
      "execution_count": 19,
      "metadata": {
        "colab": {
          "base_uri": "https://localhost:8080/"
        },
        "id": "XsLayciE2R4H",
        "outputId": "8a046a68-62d2-469d-c124-372940286270"
      },
      "outputs": [
        {
          "output_type": "stream",
          "name": "stdout",
          "text": [
            "CPU times: user 12.2 s, sys: 118 ms, total: 12.3 s\n",
            "Wall time: 14.7 s\n"
          ]
        }
      ],
      "source": [
        "%%time\n",
        "# gathering all detailes about the function and its corresponding docstring\n",
        "df['function_name'] = df['pair'].apply(lambda p: p[0])\n",
        "df['lineno'] = df['pair'].apply(lambda p: p[1])\n",
        "df['original_function'] = df['pair'].apply(lambda p: p[2])\n",
        "df['function_tokens'] = df['pair'].apply(lambda p: p[3])\n",
        "df['docstring_tokens'] = df['pair'].apply(lambda p: p[4])\n",
        "df = df[['nwo', 'path', 'function_name', 'lineno', 'original_function', 'function_tokens', 'docstring_tokens']]\n",
        "df['url'] = df[['nwo', 'path', 'lineno']].apply(lambda x: 'https://github.com/{}/blob/master/{}#L{}'.format(x[0], x[1], x[2]), axis=1)"
      ]
    },
    {
      "cell_type": "code",
      "execution_count": 20,
      "metadata": {
        "colab": {
          "base_uri": "https://localhost:8080/",
          "height": 0
        },
        "id": "kxI7wdPw2R4I",
        "outputId": "8f934fa4-2049-49bd-adf0-51ab58af5ee1"
      },
      "outputs": [
        {
          "output_type": "execute_result",
          "data": {
            "text/plain": [
              "                     nwo               path      function_name  lineno  \\\n",
              "0  rusty1s/embedded_gcnn  lib/tf/convert.py   sparse_to_tensor       5   \n",
              "1          mackorone/mms    util/ttf2png.py  end_of_path_index       5   \n",
              "2          mackorone/mms    util/ttf2png.py           get_path       8   \n",
              "3          mackorone/mms    util/ttf2png.py           get_name      11   \n",
              "4          mackorone/mms    util/ttf2png.py            ttf2png      14   \n",
              "\n",
              "                                   original_function  \\\n",
              "0  def sparse_to_tensor(value):\\n    \"\"\"Convert a...   \n",
              "1  def end_of_path_index(full_path):\\n    return ...   \n",
              "2  def get_path(full_path):\\n    return full_path...   \n",
              "3  def get_name(full_path):\\n    return full_path...   \n",
              "4  def ttf2png(chars_path, font_path, dest_path):...   \n",
              "\n",
              "                                     function_tokens  \\\n",
              "0  sparse to tensor value row np reshape value ro...   \n",
              "1  end of path index full path return full path r...   \n",
              "2  get path full path return full path end of pat...   \n",
              "3  get name full path return full path end of pat...   \n",
              "4  chars path font path dest path options backgro...   \n",
              "\n",
              "                                    docstring_tokens  \\\n",
              "0  convert a scipy sparse matrix to a tensorflow ...   \n",
              "1                                                      \n",
              "2                                                      \n",
              "3                                                      \n",
              "4                                                      \n",
              "\n",
              "                                                 url  \n",
              "0  https://github.com/rusty1s/embedded_gcnn/blob/...  \n",
              "1  https://github.com/mackorone/mms/blob/master/u...  \n",
              "2  https://github.com/mackorone/mms/blob/master/u...  \n",
              "3  https://github.com/mackorone/mms/blob/master/u...  \n",
              "4  https://github.com/mackorone/mms/blob/master/u...  "
            ],
            "text/html": [
              "\n",
              "  <div id=\"df-f3744706-013f-4d7f-b6b7-cce49339907b\">\n",
              "    <div class=\"colab-df-container\">\n",
              "      <div>\n",
              "<style scoped>\n",
              "    .dataframe tbody tr th:only-of-type {\n",
              "        vertical-align: middle;\n",
              "    }\n",
              "\n",
              "    .dataframe tbody tr th {\n",
              "        vertical-align: top;\n",
              "    }\n",
              "\n",
              "    .dataframe thead th {\n",
              "        text-align: right;\n",
              "    }\n",
              "</style>\n",
              "<table border=\"1\" class=\"dataframe\">\n",
              "  <thead>\n",
              "    <tr style=\"text-align: right;\">\n",
              "      <th></th>\n",
              "      <th>nwo</th>\n",
              "      <th>path</th>\n",
              "      <th>function_name</th>\n",
              "      <th>lineno</th>\n",
              "      <th>original_function</th>\n",
              "      <th>function_tokens</th>\n",
              "      <th>docstring_tokens</th>\n",
              "      <th>url</th>\n",
              "    </tr>\n",
              "  </thead>\n",
              "  <tbody>\n",
              "    <tr>\n",
              "      <th>0</th>\n",
              "      <td>rusty1s/embedded_gcnn</td>\n",
              "      <td>lib/tf/convert.py</td>\n",
              "      <td>sparse_to_tensor</td>\n",
              "      <td>5</td>\n",
              "      <td>def sparse_to_tensor(value):\\n    \"\"\"Convert a...</td>\n",
              "      <td>sparse to tensor value row np reshape value ro...</td>\n",
              "      <td>convert a scipy sparse matrix to a tensorflow ...</td>\n",
              "      <td>https://github.com/rusty1s/embedded_gcnn/blob/...</td>\n",
              "    </tr>\n",
              "    <tr>\n",
              "      <th>1</th>\n",
              "      <td>mackorone/mms</td>\n",
              "      <td>util/ttf2png.py</td>\n",
              "      <td>end_of_path_index</td>\n",
              "      <td>5</td>\n",
              "      <td>def end_of_path_index(full_path):\\n    return ...</td>\n",
              "      <td>end of path index full path return full path r...</td>\n",
              "      <td></td>\n",
              "      <td>https://github.com/mackorone/mms/blob/master/u...</td>\n",
              "    </tr>\n",
              "    <tr>\n",
              "      <th>2</th>\n",
              "      <td>mackorone/mms</td>\n",
              "      <td>util/ttf2png.py</td>\n",
              "      <td>get_path</td>\n",
              "      <td>8</td>\n",
              "      <td>def get_path(full_path):\\n    return full_path...</td>\n",
              "      <td>get path full path return full path end of pat...</td>\n",
              "      <td></td>\n",
              "      <td>https://github.com/mackorone/mms/blob/master/u...</td>\n",
              "    </tr>\n",
              "    <tr>\n",
              "      <th>3</th>\n",
              "      <td>mackorone/mms</td>\n",
              "      <td>util/ttf2png.py</td>\n",
              "      <td>get_name</td>\n",
              "      <td>11</td>\n",
              "      <td>def get_name(full_path):\\n    return full_path...</td>\n",
              "      <td>get name full path return full path end of pat...</td>\n",
              "      <td></td>\n",
              "      <td>https://github.com/mackorone/mms/blob/master/u...</td>\n",
              "    </tr>\n",
              "    <tr>\n",
              "      <th>4</th>\n",
              "      <td>mackorone/mms</td>\n",
              "      <td>util/ttf2png.py</td>\n",
              "      <td>ttf2png</td>\n",
              "      <td>14</td>\n",
              "      <td>def ttf2png(chars_path, font_path, dest_path):...</td>\n",
              "      <td>chars path font path dest path options backgro...</td>\n",
              "      <td></td>\n",
              "      <td>https://github.com/mackorone/mms/blob/master/u...</td>\n",
              "    </tr>\n",
              "  </tbody>\n",
              "</table>\n",
              "</div>\n",
              "      <button class=\"colab-df-convert\" onclick=\"convertToInteractive('df-f3744706-013f-4d7f-b6b7-cce49339907b')\"\n",
              "              title=\"Convert this dataframe to an interactive table.\"\n",
              "              style=\"display:none;\">\n",
              "        \n",
              "  <svg xmlns=\"http://www.w3.org/2000/svg\" height=\"24px\"viewBox=\"0 0 24 24\"\n",
              "       width=\"24px\">\n",
              "    <path d=\"M0 0h24v24H0V0z\" fill=\"none\"/>\n",
              "    <path d=\"M18.56 5.44l.94 2.06.94-2.06 2.06-.94-2.06-.94-.94-2.06-.94 2.06-2.06.94zm-11 1L8.5 8.5l.94-2.06 2.06-.94-2.06-.94L8.5 2.5l-.94 2.06-2.06.94zm10 10l.94 2.06.94-2.06 2.06-.94-2.06-.94-.94-2.06-.94 2.06-2.06.94z\"/><path d=\"M17.41 7.96l-1.37-1.37c-.4-.4-.92-.59-1.43-.59-.52 0-1.04.2-1.43.59L10.3 9.45l-7.72 7.72c-.78.78-.78 2.05 0 2.83L4 21.41c.39.39.9.59 1.41.59.51 0 1.02-.2 1.41-.59l7.78-7.78 2.81-2.81c.8-.78.8-2.07 0-2.86zM5.41 20L4 18.59l7.72-7.72 1.47 1.35L5.41 20z\"/>\n",
              "  </svg>\n",
              "      </button>\n",
              "      \n",
              "  <style>\n",
              "    .colab-df-container {\n",
              "      display:flex;\n",
              "      flex-wrap:wrap;\n",
              "      gap: 12px;\n",
              "    }\n",
              "\n",
              "    .colab-df-convert {\n",
              "      background-color: #E8F0FE;\n",
              "      border: none;\n",
              "      border-radius: 50%;\n",
              "      cursor: pointer;\n",
              "      display: none;\n",
              "      fill: #1967D2;\n",
              "      height: 32px;\n",
              "      padding: 0 0 0 0;\n",
              "      width: 32px;\n",
              "    }\n",
              "\n",
              "    .colab-df-convert:hover {\n",
              "      background-color: #E2EBFA;\n",
              "      box-shadow: 0px 1px 2px rgba(60, 64, 67, 0.3), 0px 1px 3px 1px rgba(60, 64, 67, 0.15);\n",
              "      fill: #174EA6;\n",
              "    }\n",
              "\n",
              "    [theme=dark] .colab-df-convert {\n",
              "      background-color: #3B4455;\n",
              "      fill: #D2E3FC;\n",
              "    }\n",
              "\n",
              "    [theme=dark] .colab-df-convert:hover {\n",
              "      background-color: #434B5C;\n",
              "      box-shadow: 0px 1px 3px 1px rgba(0, 0, 0, 0.15);\n",
              "      filter: drop-shadow(0px 1px 2px rgba(0, 0, 0, 0.3));\n",
              "      fill: #FFFFFF;\n",
              "    }\n",
              "  </style>\n",
              "\n",
              "      <script>\n",
              "        const buttonEl =\n",
              "          document.querySelector('#df-f3744706-013f-4d7f-b6b7-cce49339907b button.colab-df-convert');\n",
              "        buttonEl.style.display =\n",
              "          google.colab.kernel.accessAllowed ? 'block' : 'none';\n",
              "\n",
              "        async function convertToInteractive(key) {\n",
              "          const element = document.querySelector('#df-f3744706-013f-4d7f-b6b7-cce49339907b');\n",
              "          const dataTable =\n",
              "            await google.colab.kernel.invokeFunction('convertToInteractive',\n",
              "                                                     [key], {});\n",
              "          if (!dataTable) return;\n",
              "\n",
              "          const docLinkHtml = 'Like what you see? Visit the ' +\n",
              "            '<a target=\"_blank\" href=https://colab.research.google.com/notebooks/data_table.ipynb>data table notebook</a>'\n",
              "            + ' to learn more about interactive tables.';\n",
              "          element.innerHTML = '';\n",
              "          dataTable['output_type'] = 'display_data';\n",
              "          await google.colab.output.renderOutput(dataTable, element);\n",
              "          const docLink = document.createElement('div');\n",
              "          docLink.innerHTML = docLinkHtml;\n",
              "          element.appendChild(docLink);\n",
              "        }\n",
              "      </script>\n",
              "    </div>\n",
              "  </div>\n",
              "  "
            ]
          },
          "metadata": {},
          "execution_count": 20
        }
      ],
      "source": [
        "df.head()"
      ]
    },
    {
      "cell_type": "markdown",
      "metadata": {
        "id": "BC5_72Bo2R4I"
      },
      "source": [
        "### Removing Duplicates\n",
        "All entries which were duplicates with respect to function definitions or function tokens were removed"
      ]
    },
    {
      "cell_type": "code",
      "execution_count": 21,
      "metadata": {
        "colab": {
          "base_uri": "https://localhost:8080/"
        },
        "id": "-LyCWG5D2R4I",
        "outputId": "335615e3-d9b9-4db7-ce40-f01f928bfe98"
      },
      "outputs": [
        {
          "output_type": "stream",
          "name": "stdout",
          "text": [
            "Removed 38,409 duplicate rows\n",
            "CPU times: user 1.34 s, sys: 5.97 ms, total: 1.35 s\n",
            "Wall time: 1.56 s\n"
          ]
        }
      ],
      "source": [
        "%%time\n",
        "# remove observations where the same function definition appears more than once\n",
        "before_dedup = len(df)\n",
        "df = df.drop_duplicates(['original_function'])\n",
        "after_dedup = len(df)\n",
        "\n",
        "print(f'Removed {before_dedup - after_dedup:,} duplicate rows')"
      ]
    },
    {
      "cell_type": "code",
      "execution_count": 22,
      "metadata": {
        "colab": {
          "base_uri": "https://localhost:8080/"
        },
        "id": "Lm3Fmiq42R4I",
        "outputId": "ba78043c-9d1d-4ccb-fb84-04fe4afa6a1a"
      },
      "outputs": [
        {
          "output_type": "stream",
          "name": "stdout",
          "text": [
            "Removed 9,978 duplicate rows\n",
            "CPU times: user 854 ms, sys: 6.93 ms, total: 861 ms\n",
            "Wall time: 802 ms\n"
          ]
        }
      ],
      "source": [
        "%%time\n",
        "# remove observations which have the same function tokens appears more than once\n",
        "before_dedup = len(df)\n",
        "df = df.drop_duplicates(['function_tokens'])\n",
        "after_dedup = len(df)\n",
        "\n",
        "print(f'Removed {before_dedup - after_dedup:,} duplicate rows')"
      ]
    },
    {
      "cell_type": "code",
      "execution_count": 23,
      "metadata": {
        "colab": {
          "base_uri": "https://localhost:8080/"
        },
        "id": "I___Ofou2R4I",
        "outputId": "95768294-8de3-4c89-f2c1-a55e54d65d01"
      },
      "outputs": [
        {
          "output_type": "execute_result",
          "data": {
            "text/plain": [
              "(611875, 8)"
            ]
          },
          "metadata": {},
          "execution_count": 23
        }
      ],
      "source": [
        "df.shape"
      ]
    },
    {
      "cell_type": "markdown",
      "metadata": {
        "id": "dae6G57J2R4J"
      },
      "source": [
        "### Separate function without docstrings\n"
      ]
    },
    {
      "cell_type": "code",
      "execution_count": 24,
      "metadata": {
        "colab": {
          "base_uri": "https://localhost:8080/"
        },
        "id": "vMR8aIiC2R4J",
        "outputId": "0f78ed3c-f5ef-4886-f068-4aa422ec557e"
      },
      "outputs": [
        {
          "output_type": "stream",
          "name": "stdout",
          "text": [
            "Number of Funtion Snippets with docstring 143373\n",
            "Number of Funtion Snippets without docstring 468502\n"
          ]
        }
      ],
      "source": [
        "def listlen(x):\n",
        "    if not isinstance(x, list):\n",
        "        return 0\n",
        "    return len(x)\n",
        "\n",
        "# separate functions without docstrings\n",
        "# docstrings should be at least 3 words in the docstring to be considered a valid docstring\n",
        "\n",
        "with_docstrings = df[df.docstring_tokens.str.split().apply(listlen) >= 3]\n",
        "without_docstrings = df[df.docstring_tokens.str.split().apply(listlen) < 3]\n",
        "print('Number of Funtion Snippets with docstring',len(with_docstrings))\n",
        "print('Number of Funtion Snippets without docstring',len(without_docstrings))"
      ]
    },
    {
      "cell_type": "code",
      "execution_count": 25,
      "metadata": {
        "id": "aOt-QVGX2R4J"
      },
      "outputs": [],
      "source": [
        "# Save the dataset of functions with docstrings\n",
        "with_docstrings.to_csv('processed_full.csv')"
      ]
    },
    {
      "cell_type": "code",
      "execution_count": 27,
      "metadata": {
        "id": "k5lJJogK2R4J"
      },
      "outputs": [],
      "source": [
        "# Using SQLlite to analyse the dataset\n",
        "conn = sqlite3.connect('with_docstrings.sqlite')\n",
        "c=conn.cursor()\n",
        "conn.text_factory = str\n",
        "with_docstrings.to_sql('Data', conn, schema=None, if_exists='replace', index=True, index_label=None, chunksize=None, dtype=None)"
      ]
    },
    {
      "cell_type": "code",
      "execution_count": 28,
      "metadata": {
        "colab": {
          "base_uri": "https://localhost:8080/",
          "height": 392
        },
        "id": "iTDiK7R22R4J",
        "outputId": "3271794d-1fbc-4090-f9ea-bfc876083ceb"
      },
      "outputs": [
        {
          "output_type": "execute_result",
          "data": {
            "text/plain": [
              "                       nwo                                               path  \\\n",
              "0    rusty1s/embedded_gcnn                                  lib/tf/convert.py   \n",
              "13      huaxz1986/git_book       chapters/Model_Selection/validation_curve.py   \n",
              "14  xuleiboy1234/autoTitle  tensorflow/tensorflow/contrib/cloud/python/ops...   \n",
              "15  xuleiboy1234/autoTitle  tensorflow/tensorflow/contrib/cloud/python/ops...   \n",
              "16  xuleiboy1234/autoTitle  tensorflow/tensorflow/contrib/cloud/python/ops...   \n",
              "\n",
              "                function_name  lineno  \\\n",
              "0            sparse_to_tensor       5   \n",
              "13      test_validation_curve      17   \n",
              "14  _ConvertRowToExampleProto      77   \n",
              "15                _SetUpQueue     172   \n",
              "16                   __init__     104   \n",
              "\n",
              "                                    original_function  \\\n",
              "0   def sparse_to_tensor(value):\\n    \"\"\"Convert a...   \n",
              "13  def test_validation_curve():\\n    \"\"\"\\n    测试 ...   \n",
              "14  def _ConvertRowToExampleProto(row):\\n    \"\"\"Co...   \n",
              "15  def _SetUpQueue(reader):\\n    \"\"\"Sets up a que...   \n",
              "16  def __init__(self, address, port):\\n    \"\"\"Cre...   \n",
              "\n",
              "                                      function_tokens  \\\n",
              "0   sparse to tensor value row np reshape value ro...   \n",
              "13  test validation curve digits load digits digit...   \n",
              "14  convertrowtoexampleproto row example example e...   \n",
              "15  setupqueue reader queue data flow ops fifoqueu...   \n",
              "16  init self address port threading thread init s...   \n",
              "\n",
              "                                     docstring_tokens  \\\n",
              "0   convert a scipy sparse matrix to a tensorflow ...   \n",
              "13                       validation curve linearsvc c   \n",
              "14         converts the input row to an example proto   \n",
              "15                       sets up a queue for a reader   \n",
              "16                       creates a fakebigqueryserver   \n",
              "\n",
              "                                                  url  \n",
              "0   https://github.com/rusty1s/embedded_gcnn/blob/...  \n",
              "13  https://github.com/huaxz1986/git_book/blob/mas...  \n",
              "14  https://github.com/xuleiboy1234/autoTitle/blob...  \n",
              "15  https://github.com/xuleiboy1234/autoTitle/blob...  \n",
              "16  https://github.com/xuleiboy1234/autoTitle/blob...  "
            ],
            "text/html": [
              "\n",
              "  <div id=\"df-d44a2c75-4020-4111-9374-2fa50eac678f\">\n",
              "    <div class=\"colab-df-container\">\n",
              "      <div>\n",
              "<style scoped>\n",
              "    .dataframe tbody tr th:only-of-type {\n",
              "        vertical-align: middle;\n",
              "    }\n",
              "\n",
              "    .dataframe tbody tr th {\n",
              "        vertical-align: top;\n",
              "    }\n",
              "\n",
              "    .dataframe thead th {\n",
              "        text-align: right;\n",
              "    }\n",
              "</style>\n",
              "<table border=\"1\" class=\"dataframe\">\n",
              "  <thead>\n",
              "    <tr style=\"text-align: right;\">\n",
              "      <th></th>\n",
              "      <th>nwo</th>\n",
              "      <th>path</th>\n",
              "      <th>function_name</th>\n",
              "      <th>lineno</th>\n",
              "      <th>original_function</th>\n",
              "      <th>function_tokens</th>\n",
              "      <th>docstring_tokens</th>\n",
              "      <th>url</th>\n",
              "    </tr>\n",
              "  </thead>\n",
              "  <tbody>\n",
              "    <tr>\n",
              "      <th>0</th>\n",
              "      <td>rusty1s/embedded_gcnn</td>\n",
              "      <td>lib/tf/convert.py</td>\n",
              "      <td>sparse_to_tensor</td>\n",
              "      <td>5</td>\n",
              "      <td>def sparse_to_tensor(value):\\n    \"\"\"Convert a...</td>\n",
              "      <td>sparse to tensor value row np reshape value ro...</td>\n",
              "      <td>convert a scipy sparse matrix to a tensorflow ...</td>\n",
              "      <td>https://github.com/rusty1s/embedded_gcnn/blob/...</td>\n",
              "    </tr>\n",
              "    <tr>\n",
              "      <th>13</th>\n",
              "      <td>huaxz1986/git_book</td>\n",
              "      <td>chapters/Model_Selection/validation_curve.py</td>\n",
              "      <td>test_validation_curve</td>\n",
              "      <td>17</td>\n",
              "      <td>def test_validation_curve():\\n    \"\"\"\\n    测试 ...</td>\n",
              "      <td>test validation curve digits load digits digit...</td>\n",
              "      <td>validation curve linearsvc c</td>\n",
              "      <td>https://github.com/huaxz1986/git_book/blob/mas...</td>\n",
              "    </tr>\n",
              "    <tr>\n",
              "      <th>14</th>\n",
              "      <td>xuleiboy1234/autoTitle</td>\n",
              "      <td>tensorflow/tensorflow/contrib/cloud/python/ops...</td>\n",
              "      <td>_ConvertRowToExampleProto</td>\n",
              "      <td>77</td>\n",
              "      <td>def _ConvertRowToExampleProto(row):\\n    \"\"\"Co...</td>\n",
              "      <td>convertrowtoexampleproto row example example e...</td>\n",
              "      <td>converts the input row to an example proto</td>\n",
              "      <td>https://github.com/xuleiboy1234/autoTitle/blob...</td>\n",
              "    </tr>\n",
              "    <tr>\n",
              "      <th>15</th>\n",
              "      <td>xuleiboy1234/autoTitle</td>\n",
              "      <td>tensorflow/tensorflow/contrib/cloud/python/ops...</td>\n",
              "      <td>_SetUpQueue</td>\n",
              "      <td>172</td>\n",
              "      <td>def _SetUpQueue(reader):\\n    \"\"\"Sets up a que...</td>\n",
              "      <td>setupqueue reader queue data flow ops fifoqueu...</td>\n",
              "      <td>sets up a queue for a reader</td>\n",
              "      <td>https://github.com/xuleiboy1234/autoTitle/blob...</td>\n",
              "    </tr>\n",
              "    <tr>\n",
              "      <th>16</th>\n",
              "      <td>xuleiboy1234/autoTitle</td>\n",
              "      <td>tensorflow/tensorflow/contrib/cloud/python/ops...</td>\n",
              "      <td>__init__</td>\n",
              "      <td>104</td>\n",
              "      <td>def __init__(self, address, port):\\n    \"\"\"Cre...</td>\n",
              "      <td>init self address port threading thread init s...</td>\n",
              "      <td>creates a fakebigqueryserver</td>\n",
              "      <td>https://github.com/xuleiboy1234/autoTitle/blob...</td>\n",
              "    </tr>\n",
              "  </tbody>\n",
              "</table>\n",
              "</div>\n",
              "      <button class=\"colab-df-convert\" onclick=\"convertToInteractive('df-d44a2c75-4020-4111-9374-2fa50eac678f')\"\n",
              "              title=\"Convert this dataframe to an interactive table.\"\n",
              "              style=\"display:none;\">\n",
              "        \n",
              "  <svg xmlns=\"http://www.w3.org/2000/svg\" height=\"24px\"viewBox=\"0 0 24 24\"\n",
              "       width=\"24px\">\n",
              "    <path d=\"M0 0h24v24H0V0z\" fill=\"none\"/>\n",
              "    <path d=\"M18.56 5.44l.94 2.06.94-2.06 2.06-.94-2.06-.94-.94-2.06-.94 2.06-2.06.94zm-11 1L8.5 8.5l.94-2.06 2.06-.94-2.06-.94L8.5 2.5l-.94 2.06-2.06.94zm10 10l.94 2.06.94-2.06 2.06-.94-2.06-.94-.94-2.06-.94 2.06-2.06.94z\"/><path d=\"M17.41 7.96l-1.37-1.37c-.4-.4-.92-.59-1.43-.59-.52 0-1.04.2-1.43.59L10.3 9.45l-7.72 7.72c-.78.78-.78 2.05 0 2.83L4 21.41c.39.39.9.59 1.41.59.51 0 1.02-.2 1.41-.59l7.78-7.78 2.81-2.81c.8-.78.8-2.07 0-2.86zM5.41 20L4 18.59l7.72-7.72 1.47 1.35L5.41 20z\"/>\n",
              "  </svg>\n",
              "      </button>\n",
              "      \n",
              "  <style>\n",
              "    .colab-df-container {\n",
              "      display:flex;\n",
              "      flex-wrap:wrap;\n",
              "      gap: 12px;\n",
              "    }\n",
              "\n",
              "    .colab-df-convert {\n",
              "      background-color: #E8F0FE;\n",
              "      border: none;\n",
              "      border-radius: 50%;\n",
              "      cursor: pointer;\n",
              "      display: none;\n",
              "      fill: #1967D2;\n",
              "      height: 32px;\n",
              "      padding: 0 0 0 0;\n",
              "      width: 32px;\n",
              "    }\n",
              "\n",
              "    .colab-df-convert:hover {\n",
              "      background-color: #E2EBFA;\n",
              "      box-shadow: 0px 1px 2px rgba(60, 64, 67, 0.3), 0px 1px 3px 1px rgba(60, 64, 67, 0.15);\n",
              "      fill: #174EA6;\n",
              "    }\n",
              "\n",
              "    [theme=dark] .colab-df-convert {\n",
              "      background-color: #3B4455;\n",
              "      fill: #D2E3FC;\n",
              "    }\n",
              "\n",
              "    [theme=dark] .colab-df-convert:hover {\n",
              "      background-color: #434B5C;\n",
              "      box-shadow: 0px 1px 3px 1px rgba(0, 0, 0, 0.15);\n",
              "      filter: drop-shadow(0px 1px 2px rgba(0, 0, 0, 0.3));\n",
              "      fill: #FFFFFF;\n",
              "    }\n",
              "  </style>\n",
              "\n",
              "      <script>\n",
              "        const buttonEl =\n",
              "          document.querySelector('#df-d44a2c75-4020-4111-9374-2fa50eac678f button.colab-df-convert');\n",
              "        buttonEl.style.display =\n",
              "          google.colab.kernel.accessAllowed ? 'block' : 'none';\n",
              "\n",
              "        async function convertToInteractive(key) {\n",
              "          const element = document.querySelector('#df-d44a2c75-4020-4111-9374-2fa50eac678f');\n",
              "          const dataTable =\n",
              "            await google.colab.kernel.invokeFunction('convertToInteractive',\n",
              "                                                     [key], {});\n",
              "          if (!dataTable) return;\n",
              "\n",
              "          const docLinkHtml = 'Like what you see? Visit the ' +\n",
              "            '<a target=\"_blank\" href=https://colab.research.google.com/notebooks/data_table.ipynb>data table notebook</a>'\n",
              "            + ' to learn more about interactive tables.';\n",
              "          element.innerHTML = '';\n",
              "          dataTable['output_type'] = 'display_data';\n",
              "          await google.colab.output.renderOutput(dataTable, element);\n",
              "          const docLink = document.createElement('div');\n",
              "          docLink.innerHTML = docLinkHtml;\n",
              "          element.appendChild(docLink);\n",
              "        }\n",
              "      </script>\n",
              "    </div>\n",
              "  </div>\n",
              "  "
            ]
          },
          "metadata": {},
          "execution_count": 28
        }
      ],
      "source": [
        "with_docstrings.head()"
      ]
    },
    {
      "cell_type": "code",
      "execution_count": null,
      "metadata": {
        "id": "C4pQdCj22R4J"
      },
      "outputs": [],
      "source": [
        "# Number of unique repositories\n",
        "print(\"Number of repositories -\",len(list(set(with_docstrings['nwo']))))"
      ]
    },
    {
      "cell_type": "code",
      "execution_count": 30,
      "metadata": {
        "colab": {
          "base_uri": "https://localhost:8080/"
        },
        "id": "avcI9lLF2R4K",
        "outputId": "ad8cb9bb-02ea-439a-c164-2159ab16e922"
      },
      "outputs": [
        {
          "output_type": "stream",
          "name": "stderr",
          "text": [
            "/usr/local/lib/python3.7/dist-packages/ipykernel_launcher.py:2: SettingWithCopyWarning: \n",
            "A value is trying to be set on a copy of a slice from a DataFrame.\n",
            "Try using .loc[row_indexer,col_indexer] = value instead\n",
            "\n",
            "See the caveats in the documentation: https://pandas.pydata.org/pandas-docs/stable/user_guide/indexing.html#returning-a-view-versus-a-copy\n",
            "  \n"
          ]
        }
      ],
      "source": [
        "# Getting the count of function tokens per function\n",
        "with_docstrings['function_tokens_count'] = [len(item.split()) for item in list(with_docstrings['function_tokens'].values)]"
      ]
    },
    {
      "cell_type": "code",
      "execution_count": 31,
      "metadata": {
        "colab": {
          "base_uri": "https://localhost:8080/"
        },
        "id": "ZoXA5ytM2R4K",
        "outputId": "6491633b-5c36-4695-e6fc-f63983bed304"
      },
      "outputs": [
        {
          "output_type": "execute_result",
          "data": {
            "text/plain": [
              "143373"
            ]
          },
          "metadata": {},
          "execution_count": 31
        }
      ],
      "source": [
        "len(with_docstrings['function_tokens_count'] .values)"
      ]
    },
    {
      "cell_type": "code",
      "execution_count": 41,
      "metadata": {
        "colab": {
          "base_uri": "https://localhost:8080/",
          "height": 374
        },
        "id": "X15zTtOx2R4K",
        "outputId": "b3d1038a-e364-4222-dcf0-2642a0b05e33"
      },
      "outputs": [
        {
          "output_type": "display_data",
          "data": {
            "text/plain": [
              "<Figure size 684x432 with 1 Axes>"
            ],
            "image/png": "[encoded data removed]"
          },
          "metadata": {
            "needs_background": "light"
          }
        }
      ],
      "source": [
        "import matplotlib.pyplot as plt\n",
        "# Plotting the graph of sorted list of function tokens\n",
        "plt.plot(sorted(list(with_docstrings['function_tokens_count'] .values)))\n",
        "plt.ylabel('function_tokens_count')\n",
        "plt.rcParams['figure.figsize'] = [9.5, 6]\n",
        "plt.show()"
      ]
    },
    {
      "cell_type": "code",
      "execution_count": 46,
      "metadata": {
        "id": "c6XQNduX2R4K"
      },
      "outputs": [],
      "source": [
        "# Analysing what must be the minimum count of function tokens by seeing the values returned in sql queries\n",
        "# KN: Error probably because of remove favor in cell 27\n",
        "\n",
        "#final = pd.read_sql_query(\"\"\"\n",
        "#SELECT *\n",
        "#FROM Data\n",
        "#WHERE function_tokens_count > 4\n",
        "#ORDER BY function_tokens_count\n",
        "#\"\"\", conn)\n",
        "#final[:20]"
      ]
    },
    {
      "cell_type": "code",
      "execution_count": 47,
      "metadata": {
        "colab": {
          "base_uri": "https://localhost:8080/"
        },
        "id": "BWx4jUTJ2R4K",
        "outputId": "b1f93ede-8caa-4b9c-b7cf-957c616a93ff"
      },
      "outputs": [
        {
          "output_type": "execute_result",
          "data": {
            "text/plain": [
              "(143373, 9)"
            ]
          },
          "metadata": {},
          "execution_count": 47
        }
      ],
      "source": [
        "final.shape"
      ]
    },
    {
      "cell_type": "code",
      "execution_count": 49,
      "metadata": {
        "id": "yB9WL2oC2R4L"
      },
      "outputs": [],
      "source": [
        "conn = sqlite3.connect('with_docstrings.sqlite')\n",
        "c=conn.cursor()\n",
        "conn.text_factory = str\n",
        "final.to_sql('Modified', conn, schema=None, if_exists='replace', index=True, index_label=None, chunksize=None, dtype=None)"
      ]
    },
    {
      "cell_type": "code",
      "execution_count": 50,
      "metadata": {
        "id": "h-LIN09Z2R4L"
      },
      "outputs": [],
      "source": [
        "# checking if functions which are overridden are of importance to us\n",
        "#check = pd.read_sql_query(\"\"\"\n",
        "#SELECT *\n",
        "#FROM Modified\n",
        "#WHERE function_name LIKE '!_!_%' ESCAPE'!'\n",
        "#ORDER BY function_tokens_count\n",
        "#\"\"\", conn)\n",
        "#check.head()"
      ]
    },
    {
      "cell_type": "code",
      "execution_count": 51,
      "metadata": {
        "id": "h8Z7ZoFl2R4L"
      },
      "outputs": [],
      "source": [
        "final.to_csv('processed_full2.csv')"
      ]
    },
    {
      "cell_type": "markdown",
      "metadata": {
        "id": "__27aTSE2R4L"
      },
      "source": [
        "## Train-Validation-Test Split\n",
        "It was decided not to randomly split the data set instead to group the entries according to the repositories they belong and then split the data set. "
      ]
    },
    {
      "cell_type": "code",
      "execution_count": 52,
      "metadata": {
        "id": "qbtIVoj82R4L"
      },
      "outputs": [],
      "source": [
        "#Grouping entries by thie repository name\n",
        "grouped = final.groupby('nwo')"
      ]
    },
    {
      "cell_type": "code",
      "execution_count": 82,
      "metadata": {
        "id": "sMJASznH2R4L"
      },
      "outputs": [],
      "source": [
        "# train, valid, test splits\n",
        "train, valid = train_test_split(list(grouped), train_size=0.9, random_state=8081)\n",
        "train, test = train_test_split(train, train_size=0.9, random_state=8081)"
      ]
    },
    {
      "cell_type": "code",
      "execution_count": 83,
      "metadata": {
        "id": "OxZgu8tA2R4L"
      },
      "outputs": [],
      "source": [
        "train = pd.concat([d for _, d in train]).reset_index(drop=True)\n",
        "valid = pd.concat([d for _, d in valid]).reset_index(drop=True)\n",
        "test = pd.concat([d for _, d in test]).reset_index(drop=True)"
      ]
    },
    {
      "cell_type": "code",
      "execution_count": 84,
      "metadata": {
        "colab": {
          "base_uri": "https://localhost:8080/"
        },
        "id": "kPW1ZHwI2R4M",
        "outputId": "823feed8-c680-4c7f-b5e2-1631d87bb55b"
      },
      "outputs": [
        {
          "output_type": "stream",
          "name": "stdout",
          "text": [
            "train set num rows 116,109\n",
            "valid set num rows 14,573\n",
            "test set num rows 12,691\n",
            "without docstring rows 468,502\n"
          ]
        }
      ],
      "source": [
        "print(f'train set num rows {train.shape[0]:,}')\n",
        "print(f'valid set num rows {valid.shape[0]:,}')\n",
        "print(f'test set num rows {test.shape[0]:,}')\n",
        "print(f'without docstring rows {without_docstrings.shape[0]:,}')"
      ]
    },
    {
      "cell_type": "markdown",
      "metadata": {
        "id": "glhtRalE2R4M"
      },
      "source": [
        "Preview what the training set looks like.  You can start to see how the data looks, the function tokens and docstring tokens are what will be fed downstream into the models.  The other information is important for diagnostics and bookeeping."
      ]
    },
    {
      "cell_type": "code",
      "execution_count": 85,
      "metadata": {
        "colab": {
          "base_uri": "https://localhost:8080/",
          "height": 444
        },
        "id": "ucpBUY762R4M",
        "outputId": "38c3290c-5dfc-4568-942f-5a84188a5c93"
      },
      "outputs": [
        {
          "output_type": "execute_result",
          "data": {
            "text/plain": [
              "   index                 nwo                         path   function_name  \\\n",
              "0  88320     vmagamedov/hiku               hiku/compat.py  with_metaclass   \n",
              "1  24356  Contraz/demosys-py  demosys/effects/registry.py        get_dirs   \n",
              "2  24357  Contraz/demosys-py  demosys/effects/registry.py        polulate   \n",
              "3  24358  Contraz/demosys-py  demosys/effects/registry.py  get_effect_cls   \n",
              "4  96723  Contraz/demosys-py   demosys/view/controller.py             run   \n",
              "\n",
              "   lineno                                  original_function  \\\n",
              "0      11  def with_metaclass(meta, *bases):\\n    \"\"\"Crea...   \n",
              "1      30  def get_dirs(self):\\n    \"\"\"\\n        Get all ...   \n",
              "2      37  def polulate(self, effect_list):\\n    \"\"\"\\n   ...   \n",
              "3      52  def get_effect_cls(self, module_name):\\n    \"\"...   \n",
              "4      22  def run(manager=None):\\n    \"\"\"\\n    Initializ...   \n",
              "\n",
              "                                     function_tokens  \\\n",
              "0  with metaclass meta bases class metaclass meta...   \n",
              "1  get dirs self for in self effects items yield ...   \n",
              "2  polulate self effect list for effect in effect...   \n",
              "3  get effect cls self module name module importl...   \n",
              "4  run manager none global manager manager manage...   \n",
              "\n",
              "                                    docstring_tokens  \\\n",
              "0               create a base class with a metaclass   \n",
              "1  get all effect directories for registered effects   \n",
              "2                            find all effect modules   \n",
              "3        find and return an effect class in a module   \n",
              "4                            initialize load and run   \n",
              "\n",
              "                                                 url  \n",
              "0  https://github.com/vmagamedov/hiku/blob/master...  \n",
              "1  https://github.com/Contraz/demosys-py/blob/mas...  \n",
              "2  https://github.com/Contraz/demosys-py/blob/mas...  \n",
              "3  https://github.com/Contraz/demosys-py/blob/mas...  \n",
              "4  https://github.com/Contraz/demosys-py/blob/mas...  "
            ],
            "text/html": [
              "\n",
              "  <div id=\"df-4be1cc95-f38d-45bd-8c08-ca6ad7a6c848\">\n",
              "    <div class=\"colab-df-container\">\n",
              "      <div>\n",
              "<style scoped>\n",
              "    .dataframe tbody tr th:only-of-type {\n",
              "        vertical-align: middle;\n",
              "    }\n",
              "\n",
              "    .dataframe tbody tr th {\n",
              "        vertical-align: top;\n",
              "    }\n",
              "\n",
              "    .dataframe thead th {\n",
              "        text-align: right;\n",
              "    }\n",
              "</style>\n",
              "<table border=\"1\" class=\"dataframe\">\n",
              "  <thead>\n",
              "    <tr style=\"text-align: right;\">\n",
              "      <th></th>\n",
              "      <th>index</th>\n",
              "      <th>nwo</th>\n",
              "      <th>path</th>\n",
              "      <th>function_name</th>\n",
              "      <th>lineno</th>\n",
              "      <th>original_function</th>\n",
              "      <th>function_tokens</th>\n",
              "      <th>docstring_tokens</th>\n",
              "      <th>url</th>\n",
              "    </tr>\n",
              "  </thead>\n",
              "  <tbody>\n",
              "    <tr>\n",
              "      <th>0</th>\n",
              "      <td>88320</td>\n",
              "      <td>vmagamedov/hiku</td>\n",
              "      <td>hiku/compat.py</td>\n",
              "      <td>with_metaclass</td>\n",
              "      <td>11</td>\n",
              "      <td>def with_metaclass(meta, *bases):\\n    \"\"\"Crea...</td>\n",
              "      <td>with metaclass meta bases class metaclass meta...</td>\n",
              "      <td>create a base class with a metaclass</td>\n",
              "      <td>https://github.com/vmagamedov/hiku/blob/master...</td>\n",
              "    </tr>\n",
              "    <tr>\n",
              "      <th>1</th>\n",
              "      <td>24356</td>\n",
              "      <td>Contraz/demosys-py</td>\n",
              "      <td>demosys/effects/registry.py</td>\n",
              "      <td>get_dirs</td>\n",
              "      <td>30</td>\n",
              "      <td>def get_dirs(self):\\n    \"\"\"\\n        Get all ...</td>\n",
              "      <td>get dirs self for in self effects items yield ...</td>\n",
              "      <td>get all effect directories for registered effects</td>\n",
              "      <td>https://github.com/Contraz/demosys-py/blob/mas...</td>\n",
              "    </tr>\n",
              "    <tr>\n",
              "      <th>2</th>\n",
              "      <td>24357</td>\n",
              "      <td>Contraz/demosys-py</td>\n",
              "      <td>demosys/effects/registry.py</td>\n",
              "      <td>polulate</td>\n",
              "      <td>37</td>\n",
              "      <td>def polulate(self, effect_list):\\n    \"\"\"\\n   ...</td>\n",
              "      <td>polulate self effect list for effect in effect...</td>\n",
              "      <td>find all effect modules</td>\n",
              "      <td>https://github.com/Contraz/demosys-py/blob/mas...</td>\n",
              "    </tr>\n",
              "    <tr>\n",
              "      <th>3</th>\n",
              "      <td>24358</td>\n",
              "      <td>Contraz/demosys-py</td>\n",
              "      <td>demosys/effects/registry.py</td>\n",
              "      <td>get_effect_cls</td>\n",
              "      <td>52</td>\n",
              "      <td>def get_effect_cls(self, module_name):\\n    \"\"...</td>\n",
              "      <td>get effect cls self module name module importl...</td>\n",
              "      <td>find and return an effect class in a module</td>\n",
              "      <td>https://github.com/Contraz/demosys-py/blob/mas...</td>\n",
              "    </tr>\n",
              "    <tr>\n",
              "      <th>4</th>\n",
              "      <td>96723</td>\n",
              "      <td>Contraz/demosys-py</td>\n",
              "      <td>demosys/view/controller.py</td>\n",
              "      <td>run</td>\n",
              "      <td>22</td>\n",
              "      <td>def run(manager=None):\\n    \"\"\"\\n    Initializ...</td>\n",
              "      <td>run manager none global manager manager manage...</td>\n",
              "      <td>initialize load and run</td>\n",
              "      <td>https://github.com/Contraz/demosys-py/blob/mas...</td>\n",
              "    </tr>\n",
              "  </tbody>\n",
              "</table>\n",
              "</div>\n",
              "      <button class=\"colab-df-convert\" onclick=\"convertToInteractive('df-4be1cc95-f38d-45bd-8c08-ca6ad7a6c848')\"\n",
              "              title=\"Convert this dataframe to an interactive table.\"\n",
              "              style=\"display:none;\">\n",
              "        \n",
              "  <svg xmlns=\"http://www.w3.org/2000/svg\" height=\"24px\"viewBox=\"0 0 24 24\"\n",
              "       width=\"24px\">\n",
              "    <path d=\"M0 0h24v24H0V0z\" fill=\"none\"/>\n",
              "    <path d=\"M18.56 5.44l.94 2.06.94-2.06 2.06-.94-2.06-.94-.94-2.06-.94 2.06-2.06.94zm-11 1L8.5 8.5l.94-2.06 2.06-.94-2.06-.94L8.5 2.5l-.94 2.06-2.06.94zm10 10l.94 2.06.94-2.06 2.06-.94-2.06-.94-.94-2.06-.94 2.06-2.06.94z\"/><path d=\"M17.41 7.96l-1.37-1.37c-.4-.4-.92-.59-1.43-.59-.52 0-1.04.2-1.43.59L10.3 9.45l-7.72 7.72c-.78.78-.78 2.05 0 2.83L4 21.41c.39.39.9.59 1.41.59.51 0 1.02-.2 1.41-.59l7.78-7.78 2.81-2.81c.8-.78.8-2.07 0-2.86zM5.41 20L4 18.59l7.72-7.72 1.47 1.35L5.41 20z\"/>\n",
              "  </svg>\n",
              "      </button>\n",
              "      \n",
              "  <style>\n",
              "    .colab-df-container {\n",
              "      display:flex;\n",
              "      flex-wrap:wrap;\n",
              "      gap: 12px;\n",
              "    }\n",
              "\n",
              "    .colab-df-convert {\n",
              "      background-color: #E8F0FE;\n",
              "      border: none;\n",
              "      border-radius: 50%;\n",
              "      cursor: pointer;\n",
              "      display: none;\n",
              "      fill: #1967D2;\n",
              "      height: 32px;\n",
              "      padding: 0 0 0 0;\n",
              "      width: 32px;\n",
              "    }\n",
              "\n",
              "    .colab-df-convert:hover {\n",
              "      background-color: #E2EBFA;\n",
              "      box-shadow: 0px 1px 2px rgba(60, 64, 67, 0.3), 0px 1px 3px 1px rgba(60, 64, 67, 0.15);\n",
              "      fill: #174EA6;\n",
              "    }\n",
              "\n",
              "    [theme=dark] .colab-df-convert {\n",
              "      background-color: #3B4455;\n",
              "      fill: #D2E3FC;\n",
              "    }\n",
              "\n",
              "    [theme=dark] .colab-df-convert:hover {\n",
              "      background-color: #434B5C;\n",
              "      box-shadow: 0px 1px 3px 1px rgba(0, 0, 0, 0.15);\n",
              "      filter: drop-shadow(0px 1px 2px rgba(0, 0, 0, 0.3));\n",
              "      fill: #FFFFFF;\n",
              "    }\n",
              "  </style>\n",
              "\n",
              "      <script>\n",
              "        const buttonEl =\n",
              "          document.querySelector('#df-4be1cc95-f38d-45bd-8c08-ca6ad7a6c848 button.colab-df-convert');\n",
              "        buttonEl.style.display =\n",
              "          google.colab.kernel.accessAllowed ? 'block' : 'none';\n",
              "\n",
              "        async function convertToInteractive(key) {\n",
              "          const element = document.querySelector('#df-4be1cc95-f38d-45bd-8c08-ca6ad7a6c848');\n",
              "          const dataTable =\n",
              "            await google.colab.kernel.invokeFunction('convertToInteractive',\n",
              "                                                     [key], {});\n",
              "          if (!dataTable) return;\n",
              "\n",
              "          const docLinkHtml = 'Like what you see? Visit the ' +\n",
              "            '<a target=\"_blank\" href=https://colab.research.google.com/notebooks/data_table.ipynb>data table notebook</a>'\n",
              "            + ' to learn more about interactive tables.';\n",
              "          element.innerHTML = '';\n",
              "          dataTable['output_type'] = 'display_data';\n",
              "          await google.colab.output.renderOutput(dataTable, element);\n",
              "          const docLink = document.createElement('div');\n",
              "          docLink.innerHTML = docLinkHtml;\n",
              "          element.appendChild(docLink);\n",
              "        }\n",
              "      </script>\n",
              "    </div>\n",
              "  </div>\n",
              "  "
            ]
          },
          "metadata": {},
          "execution_count": 85
        }
      ],
      "source": [
        "train.head()"
      ]
    },
    {
      "cell_type": "markdown",
      "metadata": {
        "id": "LrZqkbDt2R4M"
      },
      "source": [
        "## Sorting the datasets\n",
        "This was done for addition of minimal padding tokens while training"
      ]
    },
    {
      "cell_type": "code",
      "source": [
        "train['function_tokens_count'] = train['function_tokens'].str.split().str.len()\n",
        "valid['function_tokens_count'] = valid['function_tokens'].str.split().str.len()\n",
        "test['function_tokens_count'] = test['function_tokens'].str.split().str.len()"
      ],
      "metadata": {
        "id": "YS6R-PwyVHSy"
      },
      "execution_count": 88,
      "outputs": []
    },
    {
      "cell_type": "markdown",
      "source": [
        ""
      ],
      "metadata": {
        "id": "-RVErvTEWUYO"
      }
    },
    {
      "cell_type": "code",
      "execution_count": 89,
      "metadata": {
        "id": "LfBGOmd_2R4M"
      },
      "outputs": [],
      "source": [
        "train.sort_values(by=['function_tokens_count'], inplace=True)\n",
        "valid.sort_values(by=['function_tokens_count'], inplace=True)\n",
        "test.sort_values(by=['function_tokens_count'], inplace=True)"
      ]
    },
    {
      "cell_type": "code",
      "execution_count": 91,
      "metadata": {
        "id": "pKUnY3NY2R4M"
      },
      "outputs": [],
      "source": [
        "train.to_csv('train_sorted.csv')\n",
        "valid.to_csv('valid_sorted.csv')\n",
        "test.to_csv('test_sorted.csv')"
      ]
    }
  ],
  "metadata": {
    "kernelspec": {
      "display_name": "Python 3",
      "language": "python",
      "name": "python3"
    },
    "language_info": {
      "codemirror_mode": {
        "name": "ipython",
        "version": 3
      },
      "file_extension": ".py",
      "mimetype": "text/x-python",
      "name": "python",
      "nbconvert_exporter": "python",
      "pygments_lexer": "ipython3",
      "version": "3.7.0"
    },
    "colab": {
      "name": "Part-I Data Collection & Preprocessing.ipynb",
      "provenance": [],
      "include_colab_link": true
    }
  },
  "nbformat": 4,
  "nbformat_minor": 0
}